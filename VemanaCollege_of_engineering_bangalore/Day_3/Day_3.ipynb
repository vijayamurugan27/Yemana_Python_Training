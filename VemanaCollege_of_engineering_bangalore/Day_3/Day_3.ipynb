{
 "cells": [
  {
   "cell_type": "code",
   "execution_count": 1,
   "metadata": {},
   "outputs": [
    {
     "name": "stdout",
     "output_type": "stream",
     "text": [
      "Hello World\n"
     ]
    }
   ],
   "source": [
    "print(\"Hello World\")"
   ]
  },
  {
   "cell_type": "markdown",
   "metadata": {},
   "source": [
    "####        Lists, Tuples, Lists Vs Tuples, Sets, Dictionary, Functions, Buil-in-Functions, Lambda Functions."
   ]
  },
  {
   "cell_type": "markdown",
   "metadata": {},
   "source": [
    "### Lists"
   ]
  },
  {
   "cell_type": "markdown",
   "metadata": {},
   "source": [
    "Python lists are a fundamental data structure in the Python programming language. They are used to store collections of items, which can be of any data type, including numbers, strings, or even other lists. Lists are ordered, mutable, and allow for duplicates. Here are some key points about Python lists:\n",
    "\n",
    "    Creation of Lists: You can create a list by enclosing a comma-separated sequence of values in square brackets []."
   ]
  },
  {
   "cell_type": "code",
   "execution_count": 2,
   "metadata": {},
   "outputs": [],
   "source": [
    "my_list = [1, 2, 3, 4, 5]\n",
    "words = [\"apple\", \"banana\", \"cherry\"]\n",
    "mixed_list = [1, \"apple\", 3.14, True]\n",
    "empty_list = []\n"
   ]
  },
  {
   "cell_type": "markdown",
   "metadata": {},
   "source": [
    "    Accessing Elements: You can access elements in a list by their index, starting from 0 for the first element."
   ]
  },
  {
   "cell_type": "code",
   "execution_count": 3,
   "metadata": {},
   "outputs": [
    {
     "name": "stdout",
     "output_type": "stream",
     "text": [
      "1\n",
      "banana\n"
     ]
    }
   ],
   "source": [
    "print(my_list[0])  # Output: 1\n",
    "print(words[1])    # Output: \"banana\"\n"
   ]
  },
  {
   "cell_type": "code",
   "execution_count": 4,
   "metadata": {},
   "outputs": [
    {
     "name": "stdout",
     "output_type": "stream",
     "text": [
      "1\n",
      "2\n",
      "3\n",
      "4\n",
      "5\n"
     ]
    }
   ],
   "source": [
    "for i in my_list:\n",
    "    print(i)"
   ]
  },
  {
   "cell_type": "code",
   "execution_count": 5,
   "metadata": {},
   "outputs": [
    {
     "name": "stdout",
     "output_type": "stream",
     "text": [
      "apple\n",
      "banana\n",
      "cherry\n"
     ]
    }
   ],
   "source": [
    "for i in words:\n",
    "    print(i)"
   ]
  },
  {
   "cell_type": "markdown",
   "metadata": {},
   "source": [
    "    Modifying Lists: Lists are mutable, meaning you can change their elements."
   ]
  },
  {
   "cell_type": "code",
   "execution_count": 6,
   "metadata": {},
   "outputs": [
    {
     "name": "stdout",
     "output_type": "stream",
     "text": [
      "[1, 'apple', 3.14, True]\n"
     ]
    }
   ],
   "source": [
    "print(mixed_list)"
   ]
  },
  {
   "cell_type": "code",
   "execution_count": 7,
   "metadata": {},
   "outputs": [
    {
     "name": "stdout",
     "output_type": "stream",
     "text": [
      "[1, 2, 100, 4, 5] ['apple', 'banana', 'cherry', 'date'] [1, 'apple', True]\n"
     ]
    }
   ],
   "source": [
    "my_list[2] = 100\n",
    "words.append(\"date\")\n",
    "mixed_list.remove(3.14)\n",
    "\n",
    "\n",
    "print(my_list, words, mixed_list)\n"
   ]
  },
  {
   "cell_type": "markdown",
   "metadata": {},
   "source": [
    "    List Slicing: You can extract a portion of a list using slicing."
   ]
  },
  {
   "cell_type": "code",
   "execution_count": 8,
   "metadata": {},
   "outputs": [
    {
     "name": "stdout",
     "output_type": "stream",
     "text": [
      "[2, 100, 4]\n"
     ]
    }
   ],
   "source": [
    "sub_list = my_list[1:4]  # Contains elements at index 1, 2, and 3\n",
    "print(sub_list)\n"
   ]
  },
  {
   "cell_type": "markdown",
   "metadata": {},
   "source": [
    "Common List Operations:\n",
    "\n",
    "    len(my_list): Returns the number of elements in a list.\n",
    "    my_list.append(item): Adds an item to the end of the list.\n",
    "    my_list.insert(index, item): Inserts an item at the specified index.\n",
    "    my_list.remove(item): Removes the first occurrence of the specified item.\n",
    "    my_list.pop(): Removes and returns the last element.\n",
    "    my_list.sort(): Sorts the list in ascending order.\n",
    "    my_list.reverse(): Reverses the order of elements in the list."
   ]
  },
  {
   "cell_type": "markdown",
   "metadata": {},
   "source": [
    "    List Comprehensions: List comprehensions provide a concise way to create lists based on existing lists."
   ]
  },
  {
   "cell_type": "code",
   "execution_count": 10,
   "metadata": {},
   "outputs": [
    {
     "data": {
      "text/plain": [
       "[1, 4, 9, 16, 25]"
      ]
     },
     "execution_count": 10,
     "metadata": {},
     "output_type": "execute_result"
    }
   ],
   "source": [
    "squares = [x**2 for x in range(1, 6)]  # [1, 4, 9, 16, 25]\n",
    "squares\n"
   ]
  },
  {
   "cell_type": "markdown",
   "metadata": {},
   "source": [
    "    Nesting Lists: Lists can contain other lists, allowing you to create multi-dimensional data structures."
   ]
  },
  {
   "cell_type": "code",
   "execution_count": 14,
   "metadata": {},
   "outputs": [
    {
     "name": "stdout",
     "output_type": "stream",
     "text": [
      "[[1, 2, 3], [4, 5, 6], [7, 8, 9]] \n",
      "\n",
      "\n",
      " [4, 5, 6] \n",
      "\n",
      "\n",
      " 5\n"
     ]
    }
   ],
   "source": [
    "matrix = [[1, 2, 3], [4, 5, 6], [7, 8, 9]]\n",
    "matrix\n",
    "print(matrix,'\\n\\n\\n', matrix[1] ,'\\n\\n\\n', matrix[1][1] )"
   ]
  },
  {
   "cell_type": "markdown",
   "metadata": {},
   "source": [
    "Python lists are versatile and commonly used in various programming tasks due to their flexibility and ease of use. They are a fundamental part of Python's standard library and can be found in almost every Python program."
   ]
  },
  {
   "cell_type": "markdown",
   "metadata": {},
   "source": [
    "# Tuple."
   ]
  },
  {
   "cell_type": "markdown",
   "metadata": {},
   "source": [
    "A tuple is another built-in data structure that is similar to a list, but with a few key differences. Tuples are used to store collections of items, just like lists, but they are immutable, meaning their elements cannot be changed after creation. Here are some key points about Python tuples:\n",
    "\n",
    "    Creating Tuples: You can create a tuple by enclosing a comma-separated sequence of values in parentheses ()."
   ]
  },
  {
   "cell_type": "code",
   "execution_count": 16,
   "metadata": {},
   "outputs": [
    {
     "name": "stdout",
     "output_type": "stream",
     "text": [
      "(1, 2, 3, 4, 5) ('apple', 'banana', 'cherry') (1, 'apple', 3.14, True) (42,)\n"
     ]
    }
   ],
   "source": [
    "my_tuple = (1, 2, 3, 4, 5)\n",
    "words = (\"apple\", \"banana\", \"cherry\")\n",
    "mixed_tuple = (1, \"apple\", 3.14, True)\n",
    "single_item_tuple = (42,)  # Note the comma after the single item\n",
    "\n",
    "\n",
    "\n",
    "print(my_tuple, words, mixed_tuple, single_item_tuple)"
   ]
  },
  {
   "cell_type": "code",
   "execution_count": 17,
   "metadata": {},
   "outputs": [
    {
     "name": "stdout",
     "output_type": "stream",
     "text": [
      "<class 'tuple'> <class 'tuple'>\n"
     ]
    }
   ],
   "source": [
    "# Empty Tuple\n",
    "empty_tuple = ()\n",
    "\n",
    "# or \n",
    "empty_tuple_1 = tuple()\n",
    "\n",
    "print(type(empty_tuple), type(empty_tuple_1))"
   ]
  },
  {
   "cell_type": "markdown",
   "metadata": {},
   "source": [
    "    Accessing Elements: You can access elements in a tuple by their index, just like with lists."
   ]
  },
  {
   "cell_type": "code",
   "execution_count": 18,
   "metadata": {},
   "outputs": [
    {
     "name": "stdout",
     "output_type": "stream",
     "text": [
      "1\n",
      "banana\n"
     ]
    }
   ],
   "source": [
    "print(my_tuple[0])  # Output: 1\n",
    "print(words[1])    # Output: \"banana\"\n"
   ]
  },
  {
   "cell_type": "markdown",
   "metadata": {},
   "source": [
    "        Immutability: Unlike lists, tuples are immutable, which means you cannot change their elements or length once they are created. This can be an advantage in situations where you want to ensure that the data remains constant."
   ]
  },
  {
   "cell_type": "code",
   "execution_count": 19,
   "metadata": {},
   "outputs": [
    {
     "ename": "TypeError",
     "evalue": "'tuple' object does not support item assignment",
     "output_type": "error",
     "traceback": [
      "\u001b[1;31m---------------------------------------------------------------------------\u001b[0m",
      "\u001b[1;31mTypeError\u001b[0m                                 Traceback (most recent call last)",
      "\u001b[1;32mc:\\Users\\VIJAY\\OneDrive\\Desktop\\Company Training\\Alpha_Tech_academy\\VemanaCollege_of_engineering_bangalore\\Day_3\\Day_3.ipynb Cell 27\u001b[0m line \u001b[0;36m1\n\u001b[1;32m----> <a href='vscode-notebook-cell:/c%3A/Users/VIJAY/OneDrive/Desktop/Company%20Training/Alpha_Tech_academy/VemanaCollege_of_engineering_bangalore/Day_3/Day_3.ipynb#X42sZmlsZQ%3D%3D?line=0'>1</a>\u001b[0m my_tuple[\u001b[39m2\u001b[39;49m] \u001b[39m=\u001b[39m \u001b[39m100\u001b[39m  \u001b[39m# This will raise a TypeError because tuples are immutable.\u001b[39;00m\n",
      "\u001b[1;31mTypeError\u001b[0m: 'tuple' object does not support item assignment"
     ]
    }
   ],
   "source": [
    "my_tuple[2] = 100  # This will raise a TypeError because tuples are immutable.\n"
   ]
  },
  {
   "cell_type": "markdown",
   "metadata": {},
   "source": [
    "Common Tuple Operations:\n",
    "\n",
    "    len(my_tuple): Returns the number of elements in a tuple.\n",
    "    my_tuple.count(item): Returns the number of occurrences of an item in the tuple.\n",
    "    my_tuple.index(item): Returns the index of the first occurrence of the specified item.\n",
    "\n",
    "Since tuples are immutable, operations like append, insert, and remove that modify the tuple are not available."
   ]
  },
  {
   "cell_type": "markdown",
   "metadata": {},
   "source": [
    "Tuple Packing and Unpacking: Tuples are often used for packing and unpacking multiple values in a single line of code. This can be useful when returning multiple values from a function."
   ]
  },
  {
   "cell_type": "code",
   "execution_count": null,
   "metadata": {},
   "outputs": [],
   "source": [
    "# unpacking a tuple\n",
    "coordinates = (3, 4)\n",
    "x, y = coordinates  # Unpacking the tuple into individual variables\n"
   ]
  },
  {
   "cell_type": "markdown",
   "metadata": {},
   "source": [
    "    Use Cases: Tuples are typically used when you want to represent a collection of items that should not change, such as coordinates, configuration settings, or keys in a dictionary. They are also used in functions that return multiple values, as the function can return a tuple of values.\n",
    "\n",
    "Python tuples are a useful data structure when you need an ordered collection of items that should remain constant throughout the program's execution. Their immutability ensures data integrity and can be particularly helpful in certain programming scenarios."
   ]
  },
  {
   "cell_type": "markdown",
   "metadata": {},
   "source": [
    "### Differences between a list and a Tuple\n",
    "\n",
    "Lists and tuples in Python are both used to store collections of items, but they have several key differences, mainly in terms of mutability, use cases, and some specific behaviors. Here are the main differences between lists and tuples:\n",
    "\n",
    "    1) Mutability:\n",
    "        Lists: Lists are mutable, meaning you can add, remove, or modify elements after the list is created. You can use methods like append, insert, and remove to change the contents of a list.\n",
    "        Tuples: Tuples are immutable, which means you cannot change their elements or length once they are created. This immutability ensures data integrity and can be beneficial in certain scenarios.\n",
    "\n",
    "    2) Syntax:\n",
    "        Lists: Lists are defined using square brackets [].\n",
    "        Tuples: Tuples are defined using parentheses ().\n",
    "\n",
    "    3) Use Cases:\n",
    "        Lists: Lists are typically used when you need a collection of items that may change over time. They are suitable for situations where you want to add, remove, or modify elements.\n",
    "        Tuples: Tuples are used when you want a collection of items that should remain constant throughout the program's execution. They are useful for representing unchanging data, such as coordinates, configuration settings, or keys in a dictionary. Tuples are also used in functions that return multiple values, as the function can return a tuple of values.\n",
    "\n",
    "    4) Performance:\n",
    "        Lists: Lists may be slightly less memory-efficient and performant than tuples due to their mutability. This is because lists need to allocate more memory and have additional overhead to support dynamic changes.\n",
    "        Tuples: Tuples are generally more memory-efficient and can be faster than lists, especially when you need to iterate through the elements.\n",
    "\n",
    "    5) Methods:\n",
    "        Lists have various methods for adding, removing, and modifying elements, such as append, insert, remove, pop, and sort.\n",
    "        Tuples have fewer methods, mainly for counting occurrences and finding the index of elements, as they cannot be modified.\n",
    "\n",
    "    6) Iteration and Indexing:\n",
    "        Lists and tuples can be iterated and accessed by index in the same way. Both use zero-based indexing.\n",
    "\n",
    "Here's a simple rule of thumb: If you need to represent a collection of items that won't change, use a tuple. If you expect the collection to change, use a list.\n",
    "\n",
    "In summary, the choice between lists and tuples depends on your specific requirements. If you need mutability and dynamic changes, use a list. If you want immutability and constant data, use a tuple. Both data structures have their own strengths and are valuable in different situations."
   ]
  },
  {
   "cell_type": "markdown",
   "metadata": {},
   "source": [
    "### Set"
   ]
  },
  {
   "cell_type": "markdown",
   "metadata": {},
   "source": [
    "    A set is a built-in data structure that represents an unordered collection of unique elements. Sets are similar to lists and tuples, but they do not allow for duplicate values. Sets are implemented as an unordered collection of elements, making them useful for tasks that involve testing membership and eliminating duplicates. Here are some key points about Python sets:\n",
    "\n",
    "    Creating Sets: You can create a set using curly braces {} or by using the built-in set() constructor."
   ]
  },
  {
   "cell_type": "code",
   "execution_count": 20,
   "metadata": {},
   "outputs": [
    {
     "name": "stdout",
     "output_type": "stream",
     "text": [
      "{1, 2, 3, 4, 5} <class 'set'> set() <class 'set'>\n"
     ]
    }
   ],
   "source": [
    "my_set = {1, 2, 3, 4, 5}\n",
    "empty_set = set()\n",
    "\n",
    "print(my_set,type(my_set),  empty_set, type(empty_set))"
   ]
  },
  {
   "cell_type": "markdown",
   "metadata": {},
   "source": [
    "        Unique Elements: Sets only store unique elements. If you try to add a duplicate element to a set, it will not be added, and the set will remain unchanged."
   ]
  },
  {
   "cell_type": "code",
   "execution_count": 21,
   "metadata": {},
   "outputs": [
    {
     "data": {
      "text/plain": [
       "{1, 2, 3, 4, 5}"
      ]
     },
     "execution_count": 21,
     "metadata": {},
     "output_type": "execute_result"
    }
   ],
   "source": [
    "my_set = {1, 2, 3, 2, 4, 5}  # This creates a set with {1, 2, 3, 4, 5}\n",
    "my_set"
   ]
  },
  {
   "cell_type": "markdown",
   "metadata": {},
   "source": [
    "    Adding and Removing Elements: You can add elements to a set using the add() method, and you can remove elements using the remove() or discard() methods. If an element is not in the set, remove() will raise an error, while discard() will not."
   ]
  },
  {
   "cell_type": "code",
   "execution_count": 22,
   "metadata": {},
   "outputs": [
    {
     "name": "stdout",
     "output_type": "stream",
     "text": [
      "{1, 2, 3, 4, 5, 6}\n",
      "{1, 2, 4, 5, 6}\n",
      "{1, 2, 4, 5, 6}\n"
     ]
    }
   ],
   "source": [
    "my_set.add(6)\n",
    "print(my_set)\n",
    "my_set.remove(3)\n",
    "print(my_set)\n",
    "\n",
    "my_set.discard(10)  # No error raised\n",
    "print(my_set)\n"
   ]
  },
  {
   "cell_type": "code",
   "execution_count": 23,
   "metadata": {},
   "outputs": [
    {
     "name": "stdout",
     "output_type": "stream",
     "text": [
      "{2, 4, 5, 6}\n"
     ]
    }
   ],
   "source": [
    "my_set.pop()\n",
    "print(my_set)"
   ]
  },
  {
   "cell_type": "markdown",
   "metadata": {},
   "source": [
    "Common Set Operations:\n",
    "\n",
    "    len(my_set): Returns the number of elements in the set.\n",
    "    element in my_set: Checks for the presence of an element in the set.\n",
    "    my_set.union(other_set): Returns a new set containing all unique elements from both sets.\n",
    "    my_set.intersection(other_set): Returns a new set containing elements that are common to both sets.\n",
    "    my_set.difference(other_set): Returns a new set containing elements in my_set but not in other_set.\n",
    "    my_set.symmetric_difference(other_set): Returns a new set containing elements that are unique to each set.\n",
    "    my_set.clear(): Removes all elements from the set."
   ]
  },
  {
   "cell_type": "markdown",
   "metadata": {},
   "source": [
    "        Iterating Through a Set: You can iterate through the elements of a set using a for loop."
   ]
  },
  {
   "cell_type": "code",
   "execution_count": 24,
   "metadata": {},
   "outputs": [
    {
     "name": "stdout",
     "output_type": "stream",
     "text": [
      "2\n",
      "4\n",
      "5\n",
      "6\n"
     ]
    }
   ],
   "source": [
    "for i in my_set:\n",
    "    print(i)"
   ]
  },
  {
   "cell_type": "markdown",
   "metadata": {},
   "source": [
    "        Frozensets: Python also provides a data type called \"frozenset,\" which is an immutable version of a set. Frozensets can be used as dictionary keys because they are hashable."
   ]
  },
  {
   "cell_type": "code",
   "execution_count": 26,
   "metadata": {},
   "outputs": [
    {
     "name": "stdout",
     "output_type": "stream",
     "text": [
      "frozenset({1, 2, 3}) <class 'frozenset'>\n"
     ]
    }
   ],
   "source": [
    "frozen = frozenset([1, 2, 3])\n",
    "\n",
    "print(frozen, type(frozen))\n"
   ]
  },
  {
   "cell_type": "markdown",
   "metadata": {},
   "source": [
    "        Sets are useful when you need to store unique values, perform set operations, or eliminate duplicates from a collection. They are particularly valuable for mathematical operations like unions, intersections, and differences between sets."
   ]
  },
  {
   "cell_type": "markdown",
   "metadata": {},
   "source": [
    "#       Dictionaries"
   ]
  },
  {
   "cell_type": "markdown",
   "metadata": {},
   "source": [
    "        A dictionary is a built-in data structure that stores a collection of key-value pairs. It is sometimes referred to as an associative array or a hash map. Dictionaries are very versatile and allow you to store and retrieve values based on their associated keys. Here are some key points about Python dictionaries:"
   ]
  },
  {
   "cell_type": "markdown",
   "metadata": {},
   "source": [
    "        Creating Dictionaries: You can create a dictionary by enclosing a comma-separated sequence of key-value pairs in curly braces {}."
   ]
  },
  {
   "cell_type": "code",
   "execution_count": 27,
   "metadata": {},
   "outputs": [],
   "source": [
    "my_dict = {\n",
    "    \"name\": \"Alice\",\n",
    "    \"age\": 30,\n",
    "    \"city\": \"New York\"\n",
    "}\n"
   ]
  },
  {
   "cell_type": "code",
   "execution_count": 28,
   "metadata": {},
   "outputs": [
    {
     "name": "stdout",
     "output_type": "stream",
     "text": [
      "{'name': 'Alice', 'age': 30, 'city': 'New York'} <class 'dict'>\n"
     ]
    }
   ],
   "source": [
    "print(my_dict, type(my_dict))"
   ]
  },
  {
   "cell_type": "markdown",
   "metadata": {},
   "source": [
    "#       Empty Dictionaries.        "
   ]
  },
  {
   "cell_type": "code",
   "execution_count": 29,
   "metadata": {},
   "outputs": [
    {
     "name": "stdout",
     "output_type": "stream",
     "text": [
      "{} {} <class 'dict'> <class 'dict'>\n"
     ]
    }
   ],
   "source": [
    "# creating an Empty Dictionaries.\n",
    "empty_dict = {}\n",
    "\n",
    "\n",
    "# or \n",
    "\n",
    "empty_dict1 = dict()\n",
    "\n",
    "print(empty_dict, empty_dict1, type(empty_dict1), type(empty_dict1))"
   ]
  },
  {
   "cell_type": "markdown",
   "metadata": {},
   "source": [
    "        Adding values to empty dictionaries.\n",
    "        \n"
   ]
  },
  {
   "cell_type": "code",
   "execution_count": 36,
   "metadata": {},
   "outputs": [
    {
     "name": "stdout",
     "output_type": "stream",
     "text": [
      "{'key1': 'value1', 'key2': 'value2'}\n"
     ]
    }
   ],
   "source": [
    "empty_dict[\"key1\"] = \"value1\"\n",
    "empty_dict[\"key2\"] = \"value2\"\n",
    "print(empty_dict)"
   ]
  },
  {
   "cell_type": "markdown",
   "metadata": {},
   "source": [
    "        2) Key-Value Pairs: In a dictionary, each key is associated with a value. Keys must be unique, and they are used to access the corresponding values.\n",
    "\n",
    "        3) Accessing Values: You can access the values in a dictionary by using the keys in square brackets or with the get() method."
   ]
  },
  {
   "cell_type": "code",
   "execution_count": 30,
   "metadata": {},
   "outputs": [
    {
     "name": "stdout",
     "output_type": "stream",
     "text": [
      "Alice 30\n"
     ]
    }
   ],
   "source": [
    "name = my_dict[\"name\"]  # Accessing using brackets\n",
    "age = my_dict.get(\"age\")  # Accessing using get()\n",
    "print(name, age)"
   ]
  },
  {
   "cell_type": "markdown",
   "metadata": {},
   "source": [
    "        4) Modifying Dictionaries: Dictionaries are mutable, so you can add, modify, or remove key-value pairs."
   ]
  },
  {
   "cell_type": "code",
   "execution_count": 31,
   "metadata": {},
   "outputs": [],
   "source": [
    "my_dict[\"city\"] = \"Los Angeles\"  # Modifying an existing key\n",
    "my_dict[\"job\"] = \"Engineer\"  # Adding a new key-value pair\n",
    "del my_dict[\"age\"]  # Removing a key-value pair\n"
   ]
  },
  {
   "cell_type": "code",
   "execution_count": 33,
   "metadata": {},
   "outputs": [
    {
     "name": "stdout",
     "output_type": "stream",
     "text": [
      "{'name': 'Alice', 'city': 'Los Angeles', 'job': 'Engineer'}\n"
     ]
    }
   ],
   "source": [
    "print(my_dict)"
   ]
  },
  {
   "cell_type": "markdown",
   "metadata": {},
   "source": [
    "        5) Common Dictionary Operations:\n",
    "\n",
    "    len(my_dict): Returns the number of key-value pairs in the dictionary.\n",
    "    key in my_dict: Checks if a key is present in the dictionary.\n",
    "    my_dict.keys(): Returns a list of all keys.\n",
    "    my_dict.values(): Returns a list of all values.\n",
    "    my_dict.items(): Returns a list of key-value pairs as tuples.\n",
    "\n",
    "        6) Iterating Through a Dictionary: You can iterate through the keys, values, or key-value pairs of a dictionary using for loops."
   ]
  },
  {
   "cell_type": "code",
   "execution_count": 34,
   "metadata": {},
   "outputs": [
    {
     "name": "stdout",
     "output_type": "stream",
     "text": [
      "name Alice\n",
      "city Los Angeles\n",
      "job Engineer\n",
      "name Alice\n",
      "city Los Angeles\n",
      "job Engineer\n"
     ]
    }
   ],
   "source": [
    "for key in my_dict:\n",
    "    print(key, my_dict[key])\n",
    "\n",
    "# Using items() for key-value pairs\n",
    "for key, value in my_dict.items():\n",
    "    print(key, value)\n"
   ]
  },
  {
   "cell_type": "markdown",
   "metadata": {},
   "source": [
    "        7) Dictionary Comprehensions: You can use dictionary comprehensions to create dictionaries in a concise manner."
   ]
  },
  {
   "cell_type": "code",
   "execution_count": 35,
   "metadata": {},
   "outputs": [
    {
     "data": {
      "text/plain": [
       "{1: 1, 2: 4, 3: 9, 4: 16, 5: 25}"
      ]
     },
     "execution_count": 35,
     "metadata": {},
     "output_type": "execute_result"
    }
   ],
   "source": [
    "squares = {x: x**2 for x in range(1, 6)}  # Creates a dictionary of squares\n",
    "squares"
   ]
  },
  {
   "cell_type": "markdown",
   "metadata": {},
   "source": [
    "        Dictionaries are commonly used to represent structured data, such as configuration settings, database records, and JSON data. They are also useful for counting and tracking occurrences of items and for fast retrieval of values based on keys. Python dictionaries are flexible and highly efficient for many programming tasks."
   ]
  },
  {
   "cell_type": "markdown",
   "metadata": {},
   "source": [
    "### Python Functions."
   ]
  },
  {
   "cell_type": "code",
   "execution_count": 41,
   "metadata": {},
   "outputs": [
    {
     "name": "stdout",
     "output_type": "stream",
     "text": [
      "welcome to my home\n"
     ]
    },
    {
     "data": {
      "text/plain": [
       "' Welcome to my home ,Sudar'"
      ]
     },
     "execution_count": 41,
     "metadata": {},
     "output_type": "execute_result"
    }
   ],
   "source": [
    "# A simple Function:\n",
    "def greet():\n",
    "    print(\"welcome to my home\")\n",
    "\n",
    "greet()"
   ]
  },
  {
   "cell_type": "code",
   "execution_count": null,
   "metadata": {},
   "outputs": [],
   "source": [
    "# A simple function with return statement\n",
    "\n",
    "def greet1():\n",
    "    return \"Welcome to my Home.\"\n",
    "\n",
    "greet1()"
   ]
  },
  {
   "cell_type": "code",
   "execution_count": null,
   "metadata": {},
   "outputs": [],
   "source": [
    "# A Function with arguments\n",
    "def greet2(name):\n",
    "    return f\"Welcome to my home {name}\"\n",
    "\n",
    "greet2(\"ravi\")"
   ]
  },
  {
   "cell_type": "code",
   "execution_count": 48,
   "metadata": {},
   "outputs": [
    {
     "data": {
      "text/plain": [
       "\" Welcome to my home ,Sudar and my son's name is  Ganguly\""
      ]
     },
     "execution_count": 48,
     "metadata": {},
     "output_type": "execute_result"
    }
   ],
   "source": [
    "# A function with Keyword arguments:\n",
    "def greet3(name = \"Kavin\", sname = \"Ganguly\"):\n",
    "    return f\" Welcome to my home ,{name} and my son's name is  {sname}\"\n",
    "\n",
    "# greet3()\n",
    "# greet3(\"sameer\")\n",
    "# greet3(\"sameeer\", \"dhoni\")   # a normal function passing agruments.\n",
    "# greet3(sname=\"Dhoni\", name=\"Sameer\") # a normal function passing Keyword arguments."
   ]
  },
  {
   "cell_type": "markdown",
   "metadata": {},
   "source": [
    "    1) Function Definition:\n",
    "    You define a function in Python using the def keyword, followed by the function name and a set of parentheses. Any arguments the function takes are listed within the parentheses, and a colon : indicates the start of the function's code block."
   ]
  },
  {
   "cell_type": "markdown",
   "metadata": {},
   "source": [
    "                    def my_function(arg1, arg2):\n",
    "                    \n",
    "                         # Function code here\n"
   ]
  },
  {
   "cell_type": "markdown",
   "metadata": {},
   "source": [
    "        2) Function Call:\n",
    "        To execute a function and run its code, you call the function by using its name followed by parentheses, passing any required arguments."
   ]
  },
  {
   "cell_type": "markdown",
   "metadata": {},
   "source": [
    "            result = my_function(value1, value2)\n"
   ]
  },
  {
   "cell_type": "markdown",
   "metadata": {},
   "source": [
    "        3)Function Arguments:\n",
    "        Functions can accept zero or more arguments. These arguments are used to pass data into the function for processing. Arguments are defined in the function's parentheses in the function definition."
   ]
  },
  {
   "cell_type": "markdown",
   "metadata": {},
   "source": [
    "            def greet(name):\n",
    "\n",
    "                print(f\"Hello, {name}!\")\n",
    "\n",
    "            \n",
    "            greet(\"Alice\")  # Calling the function with an argument\n"
   ]
  },
  {
   "cell_type": "markdown",
   "metadata": {},
   "source": [
    "       4)  Return Values:\n",
    "Functions can return values using the return statement. When a function encounters a return statement, it stops executing and returns the specified value."
   ]
  },
  {
   "cell_type": "markdown",
   "metadata": {},
   "source": [
    "        def add(a, b):\n",
    "            \n",
    "            return a + b\n",
    "\n",
    "        result = add(3, 5)\n"
   ]
  },
  {
   "cell_type": "markdown",
   "metadata": {},
   "source": [
    "    5)    Default Arguments:\n",
    "        You can specify default values for function arguments. When calling the function, if a value is not provided for an argument, the default value is used."
   ]
  },
  {
   "cell_type": "markdown",
   "metadata": {},
   "source": [
    "                def greet(name=\"Guest\"):\n",
    "    \n",
    "                    print(f\"Hello, {name}!\")\n",
    "\n",
    "                greet()  # Output: Hello, Guest!\n"
   ]
  },
  {
   "cell_type": "markdown",
   "metadata": {},
   "source": [
    "        6) Variable Scope:\n",
    "        Variables defined within a function are typically local to that function, and they cannot be accessed outside of it. However, you can use the global keyword to declare a variable as global and accessible throughout the entire program.\n",
    "\n",
    "        7) Function Recursion:\n",
    "        Functions in Python can call themselves, which is known as recursion. This allows you to solve problems that can be broken down into smaller, similar subproblems.\n",
    "\n",
    "        8) Lambda Functions (Anonymous Functions):\n",
    "        Python allows you to create small, anonymous functions using the lambda keyword. These are often used for simple operations."
   ]
  },
  {
   "cell_type": "code",
   "execution_count": 49,
   "metadata": {},
   "outputs": [],
   "source": [
    "# Lambda Function\n",
    "add = lambda a, b: a + b\n",
    "result = add(3, 5)"
   ]
  },
  {
   "cell_type": "markdown",
   "metadata": {},
   "source": [
    "9)          Function Recursion:\n",
    "        Functions in Python can call themselves, which is known as recursion. This allows you to solve problems that can be broken down into smaller, similar subproblems."
   ]
  },
  {
   "cell_type": "code",
   "execution_count": 50,
   "metadata": {},
   "outputs": [
    {
     "name": "stdout",
     "output_type": "stream",
     "text": [
      "120\n"
     ]
    }
   ],
   "source": [
    "def factorial(n):\n",
    "    if n == 0:\n",
    "        return 1\n",
    "    else:\n",
    "        return n * factorial(n - 1)\n",
    "\n",
    "# Example usage:\n",
    "result = factorial(5)  # Computes 5! which is 5 * 4 * 3 * 2 * 1 = 120\n",
    "print(result)\n"
   ]
  },
  {
   "cell_type": "markdown",
   "metadata": {},
   "source": [
    "    Functions are a fundamental building block of Python programming. They help in organizing and reusing code, making your programs more efficient and easier to maintain."
   ]
  }
 ],
 "metadata": {
  "kernelspec": {
   "display_name": "venv",
   "language": "python",
   "name": "python3"
  },
  "language_info": {
   "codemirror_mode": {
    "name": "ipython",
    "version": 3
   },
   "file_extension": ".py",
   "mimetype": "text/x-python",
   "name": "python",
   "nbconvert_exporter": "python",
   "pygments_lexer": "ipython3",
   "version": "3.12.0"
  }
 },
 "nbformat": 4,
 "nbformat_minor": 2
}
