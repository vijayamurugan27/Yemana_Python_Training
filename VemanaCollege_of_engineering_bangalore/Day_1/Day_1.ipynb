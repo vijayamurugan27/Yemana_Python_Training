{
 "cells": [
  {
   "cell_type": "markdown",
   "metadata": {},
   "source": [
    "# Today's Topics:\n",
    "\n",
    "Variables, Data Types, Keywords, Literals, Comments, Doc_strings, Help command, How to use Doc strings using (Help_command, and __doc__), dir(), importing a module & using its functions."
   ]
  },
  {
   "cell_type": "markdown",
   "metadata": {},
   "source": [
    "#  Variables"
   ]
  },
  {
   "cell_type": "markdown",
   "metadata": {},
   "source": [
    "In Python, variables are used to store and manipulate data. Here are some key points to understand about Python variables:\n",
    "\n",
    "    Variable Naming Rules:\n",
    "        Variable names can contain letters (a-z, A-Z), digits (0-9), and underscores (_).\n",
    "        They must start with a letter or an underscore.\n",
    "        Variable names are case-sensitive, which means \"myVar\" and \"myvar\" are considered different variables.\n",
    "        Python has reserved words (keywords) that cannot be used as variable names, like if, while, for, etc.\n",
    "\n",
    "    Variable Assignment:\n",
    "    To assign a value to a variable, you use the = operator. For example:"
   ]
  },
  {
   "cell_type": "code",
   "execution_count": 1,
   "metadata": {},
   "outputs": [],
   "source": [
    "a = 42\n"
   ]
  },
  {
   "cell_type": "markdown",
   "metadata": {},
   "source": [
    "#  Data Types:\n",
    "Python is dynamically typed, meaning you don't have to explicitly specify a data type for a variable. Python infers the data type based on the assigned value. Common data types include:\n",
    "\n",
    "    Integers (int): Whole numbers, like 42, -3, or 0.\n",
    "    Floats (float): Decimal numbers, like 3.14, -0.5, or 2.0.\n",
    "    Strings (str): Text data enclosed in single or double quotes, like \"Hello, World!\".\n",
    "    Booleans (bool): Represents True or False.\n",
    "    Lists, Tuples, and Dictionaries (used for storing collections of data).\n",
    "    Custom classes and objects.\n",
    "\n",
    "Reassigning Variables:\n",
    "You can change the value of a variable by reassigning it with a new value:"
   ]
  },
  {
   "cell_type": "code",
   "execution_count": 2,
   "metadata": {},
   "outputs": [
    {
     "name": "stdout",
     "output_type": "stream",
     "text": [
      "42\n",
      "Hello, World!\n"
     ]
    }
   ],
   "source": [
    "a = 42\n",
    "print(a)\n",
    "b = \"Hello, World!\"\n",
    "print(b)"
   ]
  },
  {
   "cell_type": "markdown",
   "metadata": {},
   "source": [
    "# Printing Variables:\n",
    "You can print the value of a variable using the print function:"
   ]
  },
  {
   "cell_type": "code",
   "execution_count": 3,
   "metadata": {},
   "outputs": [
    {
     "name": "stdout",
     "output_type": "stream",
     "text": [
      "42 \n",
      "\n",
      "\n",
      " Hello, World!\n"
     ]
    }
   ],
   "source": [
    "print(a,'\\n\\n\\n',b,)"
   ]
  },
  {
   "cell_type": "markdown",
   "metadata": {},
   "source": [
    "### input()"
   ]
  },
  {
   "cell_type": "markdown",
   "metadata": {},
   "source": [
    "Getting Inputs from the user, using the function input()"
   ]
  },
  {
   "cell_type": "code",
   "execution_count": 30,
   "metadata": {},
   "outputs": [
    {
     "name": "stdout",
     "output_type": "stream",
     "text": [
      "Hello, Ravi ...!\n"
     ]
    }
   ],
   "source": [
    "user_input = input(\"Please enter your name: \")\n",
    "print(\"Hello, \" + user_input + \" ...!\")\n"
   ]
  },
  {
   "cell_type": "markdown",
   "metadata": {},
   "source": [
    "Variable Scope:\n",
    "Variables can have different scopes. The scope of a variable defines where in your code it can be accessed. Common scopes include:\n",
    "\n",
    "    Global: Variables defined at the top-level of a script or module are global and can be accessed throughout the code.\n",
    "    Local: Variables defined within a function have local scope and can only be accessed within that function."
   ]
  },
  {
   "cell_type": "markdown",
   "metadata": {},
   "source": [
    "# Rules for Naming Python Variables"
   ]
  },
  {
   "cell_type": "markdown",
   "metadata": {},
   "source": [
    "    1) Constant and variable names should have a combination of letters in lowercase (a to z) or uppercase (A to Z) or digits (0 to 9) or an underscore (_) For Example \n",
    "        snake_case\n",
    "        MACRO_CASE\n",
    "        camelCase\n",
    "        CapWords\n",
    "\n",
    "\n",
    "    2) Create a name that makes sense. For example, vowel makes more sense than v.\n",
    "\n",
    "    3) If you want to create a variable name having two words, use underscore to separate them. For example:\n",
    "        my_name\n",
    "        current_salary\n",
    "    \n",
    "    4) Python is case-sensitive. So num and Num are different variables. For example,\n",
    "\n",
    "        var num = 5 \n",
    "        var Num = 55\n",
    "        print(num) # 5\n",
    "        print(Num) # 55\n",
    "\n",
    "    5) Avoid using keywords like if, True, class, etc. as variable names.\n"
   ]
  },
  {
   "cell_type": "markdown",
   "metadata": {},
   "source": [
    "Python has several naming conventions for variables, and it's essential to choose a convention that makes your code readable and maintainable. The most commonly used naming conventions in Python are:\n",
    "\n",
    "    Snake Case:\n",
    "        Variable names are written in all lowercase letters.\n",
    "        Words are separated by underscores.\n",
    "        Used for regular variables, function names, and module names.\n",
    "        Example: my_variable_name, calculate_area, my_module.\n",
    "\n",
    "    Camel Case:\n",
    "        Variable names start with a lowercase letter, and each subsequent word begins with a capital letter (no spaces or underscores).\n",
    "        Often used for naming functions, methods, and object instances.\n",
    "        Example: myVariableName, calculateArea, myClassInstance.\n",
    "\n",
    "    Pascal Case (or CapWords):\n",
    "        Similar to Camel Case, but the first word starts with a capital letter.\n",
    "        Often used for naming classes and types.\n",
    "        Example: MyClass, PersonName, CarModel.\n",
    "\n",
    "    UPPERCASE:\n",
    "        Variable names are written in all capital letters.\n",
    "        Often used for naming constants or global variables.\n",
    "        Example: PI, MAX_VALUE, CONFIG_FILE.\n",
    "\n",
    "    Single Underscore Prefix:\n",
    "        Sometimes used to indicate that a variable is intended for internal use within a module.\n",
    "        It's not a strict naming convention but rather a hint to other programmers.\n",
    "        Example: _private_var, _internal_function.\n",
    "\n",
    "    Double Underscore Prefix (Name Mangling):\n",
    "        Used to make an attribute of a class private to the class it is defined in.\n",
    "        This is not a common convention and should be used sparingly.\n",
    "        Example: __private_var, __private_method.\n",
    "\n",
    "    Underscore Suffix:\n",
    "        Sometimes used to avoid naming conflicts with Python keywords.\n",
    "        Example: class_, import_, def_.\n",
    "\n",
    "Choosing the appropriate naming convention is essential for code readability and consistency. In Python, the most widely followed conventions are Snake Case for variable names, Camel Case for function and method names, and Pascal Case for class names. It's also essential to adhere to the PEP 8 style guide, which provides guidance on naming conventions and code formatting in Python."
   ]
  },
  {
   "cell_type": "markdown",
   "metadata": {},
   "source": [
    "Common mistakes in variable naming in Python can lead to code readability issues and, in some cases, errors. Here are some common mistakes to avoid when naming variables:\n",
    "\n",
    "#    Using Invalid Characters:\n",
    "      Variable names can only contain letters (a-z, A-Z), digits (0-9), and underscores (_). Using special characters, spaces, or other symbols in variable names is not allowed.\n",
    "\n",
    "    Example of an invalid variable name: my-var, user@name, my variable.\n",
    "\n",
    "#    Starting with a Number: \n",
    "     Variable names must start with a letter or an underscore, not a number. For example, 123variable is not a valid variable name.\n",
    "\n",
    "#    Using Reserved Keywords:\n",
    "      Python has a set of reserved words (keywords) that have special meanings in the language and cannot be used as variable names. Using them can lead to confusion and errors.\n",
    "\n",
    "    Example of using a reserved keyword as a variable name: if = 5, while = \"loop\".\n",
    "\n",
    "#    Inconsistent or Incomprehensible Names:\n",
    "      Variable names should be meaningful and descriptive. Using single-character names like a, x, or q for important variables can make the code hard to understand.\n",
    "\n",
    "    Example of unclear variable names: t, x1, data, temp.\n",
    "\n",
    "#    Ignoring Case Sensitivity:\n",
    "     Python is case-sensitive, so myVariable and myvariable are considered different variables. Inconsistent use of capitalization can lead to confusion.\n",
    "\n",
    "#    Using Incorrect Case Conventions:\n",
    "     Choosing the wrong naming convention for your variables can make your code less readable.\n",
    "      For example, using Camel Case for variable names (myVariableName) instead of Snake Case (my_variable_name) is a common mistake.\n",
    "\n",
    "    \n",
    "#   Overusing Abbreviations:\n",
    "     While abbreviations can save typing, they can also make code less clear. Try to strike a balance between concise variable names and meaningful ones.\n",
    "\n",
    "    Example of excessive abbreviation: usr_nm instead of user_name.\n",
    "\n",
    "#    Not Using Clear and Descriptive Names:\n",
    "     Choose variable names that are self-explanatory and describe the purpose of the variable. This makes your code more understandable for you and other developers.\n",
    "\n",
    "    Example of unclear names: var1, data1, value2, temp3.\n",
    "\n",
    "#    Neglecting PEP 8 Guidelines: \n",
    "     Python has a style guide called PEP 8, which provides recommendations for naming conventions and code formatting. Neglecting these guidelines can lead to inconsistencies in your code.\n",
    "\n",
    "#    Using Special Characters: \n",
    "     While underscores are allowed in variable names, using too many underscores or special characters can make the names difficult to read and understand.\n",
    "\n",
    "     Example of excessive underscores: __name__, variable_with_long_name___.\n",
    "\n",
    "To write clean and maintainable Python code, it's important to choose descriptive, consistent, and meaningful variable names while adhering to Python's naming rules and conventions. Following the PEP 8 style guide can help you avoid many common naming mistakes and keep your code consistent."
   ]
  },
  {
   "cell_type": "markdown",
   "metadata": {},
   "source": [
    "#    Keywords\n",
    "Python keywords, also known as reserved words, are a set of words that have special meanings in the Python programming language. These keywords are used to define the syntax and structure of the code. You cannot use these words as variable names, function names, or any other identifiers in your Python programs because they are reserved for specific purposes. Here is a list of Python keywords:"
   ]
  },
  {
   "cell_type": "markdown",
   "metadata": {},
   "source": [
    "False       class       finally     is          return\n",
    "None        continue    for         lambda      try\n",
    "True        def         from        nonlocal    while\n",
    "and         del         global      not         with\n",
    "as          elif        if          or          yield\n",
    "assert      else        import      pass\n",
    "break       except      in          raise\n"
   ]
  },
  {
   "cell_type": "markdown",
   "metadata": {},
   "source": [
    "These keywords are an integral part of Python's syntax and are used in various constructs such as conditional statements, loops, function definitions, and more. It's important to note that Python is case-sensitive, so these keywords must be written in lowercase letters."
   ]
  },
  {
   "cell_type": "code",
   "execution_count": 4,
   "metadata": {},
   "outputs": [
    {
     "name": "stdout",
     "output_type": "stream",
     "text": [
      "False\n",
      "None\n",
      "True\n",
      "and\n",
      "as\n",
      "assert\n",
      "async\n",
      "await\n",
      "break\n",
      "class\n",
      "continue\n",
      "def\n",
      "del\n",
      "elif\n",
      "else\n",
      "except\n",
      "finally\n",
      "for\n",
      "from\n",
      "global\n",
      "if\n",
      "import\n",
      "in\n",
      "is\n",
      "lambda\n",
      "nonlocal\n",
      "not\n",
      "or\n",
      "pass\n",
      "raise\n",
      "return\n",
      "try\n",
      "while\n",
      "with\n",
      "yield\n"
     ]
    }
   ],
   "source": [
    "import keyword\n",
    "\n",
    "# Get the list of Python keywords\n",
    "keywords = keyword.kwlist\n",
    "\n",
    "# Print the keywords\n",
    "for keyword in keywords:\n",
    "    print(keyword)\n"
   ]
  },
  {
   "cell_type": "markdown",
   "metadata": {},
   "source": [
    "These are the reserved words in Python that have special meanings and are used to define the language's syntax and structure. You cannot use these words as identifiers in your Python code."
   ]
  },
  {
   "cell_type": "markdown",
   "metadata": {},
   "source": [
    "#   Literals - Constant values"
   ]
  },
  {
   "cell_type": "markdown",
   "metadata": {},
   "source": [
    "A literal in Python is a syntax that is used to completely express a fixed value of a specific data type. Literals are constants that are self-explanatory and don’t need to be computed or evaluated. They are used to provide variable values or to directly utilize them in expressions. Generally, literals are a notation for representing a fixed value in source code. They can also be defined as raw values or data given in variables or constants."
   ]
  },
  {
   "cell_type": "markdown",
   "metadata": {},
   "source": [
    "Here are some common types of literals in Python:\n",
    "\n",
    "    Integer Literals: These are used to represent integer values. For example:\n",
    "        42\n",
    "        -10\n",
    "        0b1101 (Binary representation, equals 13 in decimal)\n",
    "        0o75 (Octal representation, equals 61 in decimal)\n",
    "        0x1A (Hexadecimal representation, equals 26 in decimal)\n",
    "\n",
    "    Floating-Point Literals: These represent floating-point or real numbers. For example:\n",
    "        3.14\n",
    "        -0.001\n",
    "        2.0e3 (Scientific notation, equals 2000.0)\n",
    "\n",
    "    String Literals: These are used to represent textual data. Strings can be enclosed in either single ('') or double (\"\") quotes. For example:\n",
    "        'Hello, World!'\n",
    "        \"Python is great\"\n",
    "\n",
    "    Character Literals: Python doesn't have a distinct character data type, but you can represent a single character as a string of length 1, enclosed in single quotes. For example:\n",
    "        'A'\n",
    "        '7'\n",
    "\n",
    "    Boolean Literals: These represent the Boolean values True and False.\n",
    "\n",
    "    None Literal: Represents the special value None, typically used to indicate the absence of a value or the result of a function that doesn't return anything.\n",
    "\n",
    "    List Literals: Used to represent lists (ordered collections) and are enclosed in square brackets. For example:\n",
    "        [1, 2, 3]\n",
    "        ['apple', 'banana', 'cherry']\n",
    "\n",
    "    Tuple Literals: Used to represent tuples (ordered, immutable collections) and are enclosed in parentheses. For example:\n",
    "        (1, 2, 3)\n",
    "        ('John', 25, 'Male')\n",
    "\n",
    "    Dictionary Literals: Used to represent dictionaries (key-value mappings) and are enclosed in curly braces. For example:\n",
    "        {'name': 'Alice', 'age': 30}\n",
    "        {'city': 'New York', 'population': 8398748}\n",
    "\n",
    "    Set Literals: Used to represent sets (unordered collections of unique elements) and are enclosed in curly braces. For example:\n",
    "        {1, 2, 3}\n",
    "        {'apple', 'banana', 'cherry'}\n",
    "\n",
    "    Boolean Literals: Represented by the values True and False, used in Boolean expressions.\n",
    "\n",
    "    Ellipsis Literal: Represented by ... (three dots), often used as a placeholder in code.\n",
    "\n",
    "These literals are used to initialize variables, assign values, or use them directly in expressions throughout your Python code. They represent constant values that are not expected to change during program execution."
   ]
  },
  {
   "cell_type": "markdown",
   "metadata": {},
   "source": [
    "#    Differences between variables and literals in python"
   ]
  },
  {
   "cell_type": "markdown",
   "metadata": {},
   "source": [
    "Variables and literals in Python serve different purposes and have distinct characteristics. Here are the key differences between variables and literals in Python:\n",
    "\n",
    "    Definition:\n",
    "        Variable: A variable is a named storage location in memory that can hold various data values. It is used to store and manage data in a program. Variables are created by assigning a value to a name.\n",
    "        Literal: A literal is a constant value that is directly written in your code to represent specific data types, such as numbers, strings, or Boolean values.\n",
    "\n",
    "    Mutability:\n",
    "        Variable: Variables can be reassigned, and their values can change during the execution of a program. They can refer to different values at different points in the code.\n",
    "        Literal: Literals are immutable. Once defined, their values cannot be changed. If you want to represent a different value of the same data type, you need to use a new literal.\n",
    "\n",
    "    Usage:\n",
    "        Variable: Variables are used to store and manage data, and they can be manipulated and used in various operations and expressions. They provide flexibility and dynamic behavior in your code.\n",
    "        Literal: Literals represent fixed, constant values. They are typically used as initial values for variables, function arguments, and as constants for comparison in expressions.\n",
    "\n",
    "    Naming and Identifiers:\n",
    "        Variable: Variables have identifiers (names) that you choose to represent the data they hold. You can choose meaningful names for variables that describe their purpose.\n",
    "        Literal: Literals are written directly in your code and do not have identifiers. They represent specific values and are not named.\n",
    "\n",
    "    Reusability:\n",
    "        Variable: Variables can be reused and referenced multiple times in your code. They allow you to store and manage data in a reusable manner.\n",
    "        Literal: Literals are specific values and are not reusable. If you need the same value in multiple places, you would have to use the same literal multiple times."
   ]
  },
  {
   "cell_type": "markdown",
   "metadata": {},
   "source": [
    "#   Examples"
   ]
  },
  {
   "cell_type": "markdown",
   "metadata": {},
   "source": [
    "## variable"
   ]
  },
  {
   "cell_type": "code",
   "execution_count": 5,
   "metadata": {},
   "outputs": [],
   "source": [
    "x = 10  # x is a variable storing the integer value 10\n",
    "name = \"Alice\"  # name is a variable storing the string \"Alice\"\n"
   ]
  },
  {
   "cell_type": "markdown",
   "metadata": {},
   "source": [
    "## literal"
   ]
  },
  {
   "cell_type": "markdown",
   "metadata": {},
   "source": [
    "42  # Integer literal\n",
    "\n",
    "\"Hello, World!\"  # String literal\n",
    "\n",
    "True  # Boolean literal\n"
   ]
  },
  {
   "cell_type": "markdown",
   "metadata": {},
   "source": [
    "let's create a simple Python program that demonstrates the use of various types of literals. We'll use integer literals, floating-point literals, string literals, boolean literals, and a few more. Here's the code:"
   ]
  },
  {
   "cell_type": "code",
   "execution_count": 6,
   "metadata": {},
   "outputs": [
    {
     "name": "stdout",
     "output_type": "stream",
     "text": [
      "Age: 30\n",
      "Quantity: 5\n",
      "Pi: 3.14159\n",
      "Price: 19.99\n",
      "Name: Alice\n",
      "Greeting: Hello, World!\n",
      "Is Python fun? True\n",
      "Is learning Python fun? False\n",
      "No value: None\n",
      "Fruits: ['apple', 'banana', 'cherry']\n",
      "Point: (10, 20)\n",
      "Person: {'name': 'Bob', 'age': 25}\n",
      "Unique numbers: {1, 2, 3}\n"
     ]
    }
   ],
   "source": [
    "# Integer literals\n",
    "age = 30\n",
    "quantity = 5\n",
    "\n",
    "# Floating-point literals\n",
    "pi = 3.14159\n",
    "price = 19.99\n",
    "\n",
    "# String literals\n",
    "name = \"Alice\"\n",
    "greeting = 'Hello, World!'\n",
    "\n",
    "# Boolean literals\n",
    "is_python_fun = True\n",
    "is_learning = False\n",
    "\n",
    "# None literal\n",
    "no_value = None\n",
    "\n",
    "# List literals\n",
    "fruits = ['apple', 'banana', 'cherry']\n",
    "\n",
    "# Tuple literals\n",
    "point = (10, 20)\n",
    "\n",
    "# Dictionary literals\n",
    "person = {'name': 'Bob', 'age': 25}\n",
    "\n",
    "# Set literals\n",
    "unique_numbers = {1, 2, 3}\n",
    "\n",
    "# Display the values\n",
    "print(\"Age:\", age)\n",
    "print(\"Quantity:\", quantity)\n",
    "print(\"Pi:\", pi)\n",
    "print(\"Price:\", price)\n",
    "print(\"Name:\", name)\n",
    "print(\"Greeting:\", greeting)\n",
    "print(\"Is Python fun?\", is_python_fun)\n",
    "print(\"Is learning Python fun?\", is_learning)\n",
    "print(\"No value:\", no_value)\n",
    "print(\"Fruits:\", fruits)\n",
    "print(\"Point:\", point)\n",
    "print(\"Person:\", person)\n",
    "print(\"Unique numbers:\", unique_numbers)\n"
   ]
  },
  {
   "cell_type": "markdown",
   "metadata": {},
   "source": [
    "#  Comments"
   ]
  },
  {
   "cell_type": "markdown",
   "metadata": {},
   "source": [
    "Comments can be used to explain Python Code, \n",
    "Make code more readable,\n",
    "Prevent execution of Code While Executing."
   ]
  },
  {
   "cell_type": "markdown",
   "metadata": {},
   "source": [
    "Comments are used to add explanations or documentation to your code. Comments are ignored by the Python interpreter and are not executed as part of the program. They are intended for human readers to understand the code better. Here are the two main types of comments in Python:\n",
    "\n",
    "    Single-Line Comments:\n",
    "        Single-line comments are used to add comments on a single line.\n",
    "        They start with the # symbol, and everything after the # on that line is treated as a comment.\n",
    "        Single-line comments are commonly used for short explanations of code or for temporarily disabling a line of code."
   ]
  },
  {
   "cell_type": "markdown",
   "metadata": {},
   "source": [
    "## Single Line Comments."
   ]
  },
  {
   "cell_type": "code",
   "execution_count": 7,
   "metadata": {},
   "outputs": [
    {
     "name": "stdout",
     "output_type": "stream",
     "text": [
      "Hello world\n"
     ]
    }
   ],
   "source": [
    "# This is a Comment\n",
    "print(\"Hello world\")"
   ]
  },
  {
   "cell_type": "code",
   "execution_count": 8,
   "metadata": {},
   "outputs": [
    {
     "name": "stdout",
     "output_type": "stream",
     "text": [
      "Hello world\n"
     ]
    }
   ],
   "source": [
    "#I am going to print Hello World\n",
    "print(\"Hello world\")"
   ]
  },
  {
   "cell_type": "code",
   "execution_count": 9,
   "metadata": {},
   "outputs": [
    {
     "name": "stdout",
     "output_type": "stream",
     "text": [
      "5\n"
     ]
    }
   ],
   "source": [
    "# print(\"Hello World\")\n",
    "a = 5\n",
    "print(a)"
   ]
  },
  {
   "cell_type": "markdown",
   "metadata": {},
   "source": [
    "## Multi_Line Comments."
   ]
  },
  {
   "cell_type": "code",
   "execution_count": 10,
   "metadata": {},
   "outputs": [],
   "source": [
    "# I am going to read Python and develop Applications in Python.\n",
    "# First I start with Basics of Python.\n",
    "# Understand the basics , then try to grasp the basics of python language.\n",
    "# Then i move on to understand the Advanced Python.\n",
    "# Here I will Study the Concepts of OOPs, Modules Like, Numpy, Pandas, Datetime, Os, Maths, and statistics."
   ]
  },
  {
   "cell_type": "markdown",
   "metadata": {},
   "source": [
    "## Doc Strings."
   ]
  },
  {
   "cell_type": "markdown",
   "metadata": {},
   "source": [
    "Docstrings are used to provide multi-line documentation for modules, classes, functions, or methods.\n",
    "\n",
    "They are enclosed in triple double-quotes (\"\"\") or triple single-quotes (''') and can span multiple lines.\n",
    "\n",
    "Docstrings are used for generating documentation and are typically placed at the beginning of a module, class, or function."
   ]
  },
  {
   "cell_type": "markdown",
   "metadata": {},
   "source": [
    "## Declaring Doc Strings"
   ]
  },
  {
   "cell_type": "code",
   "execution_count": 11,
   "metadata": {},
   "outputs": [],
   "source": [
    "def add_numbers(a, b):\n",
    "    '''\n",
    "    This function takes two numbers as input and returns their sum.\n",
    "\n",
    "    Args:\n",
    "        a (float): The first number to be added.\n",
    "        b (float): The second number to be added.\n",
    "\n",
    "    Returns:\n",
    "        float: The sum of the two input numbers.\n",
    "\n",
    "    Example:\n",
    "        >>> add_numbers(5, 3)\n",
    "        8\n",
    "        >>> add_numbers(-2.5, 1.5)\n",
    "        -1.0\n",
    "    '''\n",
    "    result = a + b\n",
    "    return result\n"
   ]
  },
  {
   "cell_type": "code",
   "execution_count": 12,
   "metadata": {},
   "outputs": [
    {
     "name": "stdout",
     "output_type": "stream",
     "text": [
      "Help on function add_numbers in module __main__:\n",
      "\n",
      "add_numbers(a, b)\n",
      "    This function takes two numbers as input and returns their sum.\n",
      "\n",
      "    Args:\n",
      "        a (float): The first number to be added.\n",
      "        b (float): The second number to be added.\n",
      "\n",
      "    Returns:\n",
      "        float: The sum of the two input numbers.\n",
      "\n",
      "    Example:\n",
      "        >>> add_numbers(5, 3)\n",
      "        8\n",
      "        >>> add_numbers(-2.5, 1.5)\n",
      "        -1.0\n",
      "\n"
     ]
    }
   ],
   "source": [
    "help(add_numbers)"
   ]
  },
  {
   "cell_type": "code",
   "execution_count": 13,
   "metadata": {},
   "outputs": [
    {
     "data": {
      "text/plain": [
       "'\\n    This function takes two numbers as input and returns their sum.\\n\\n    Args:\\n        a (float): The first number to be added.\\n        b (float): The second number to be added.\\n\\n    Returns:\\n        float: The sum of the two input numbers.\\n\\n    Example:\\n        >>> add_numbers(5, 3)\\n        8\\n        >>> add_numbers(-2.5, 1.5)\\n        -1.0\\n    '"
      ]
     },
     "execution_count": 13,
     "metadata": {},
     "output_type": "execute_result"
    }
   ],
   "source": [
    "add_numbers.__doc__"
   ]
  },
  {
   "cell_type": "code",
   "execution_count": 14,
   "metadata": {},
   "outputs": [
    {
     "name": "stdout",
     "output_type": "stream",
     "text": [
      "\n",
      "    This function takes two numbers as input and returns their sum.\n",
      "\n",
      "    Args:\n",
      "        a (float): The first number to be added.\n",
      "        b (float): The second number to be added.\n",
      "\n",
      "    Returns:\n",
      "        float: The sum of the two input numbers.\n",
      "\n",
      "    Example:\n",
      "        >>> add_numbers(5, 3)\n",
      "        8\n",
      "        >>> add_numbers(-2.5, 1.5)\n",
      "        -1.0\n",
      "    \n"
     ]
    }
   ],
   "source": [
    "print(add_numbers.__doc__)"
   ]
  },
  {
   "cell_type": "code",
   "execution_count": 15,
   "metadata": {},
   "outputs": [
    {
     "data": {
      "text/plain": [
       "8"
      ]
     },
     "execution_count": 15,
     "metadata": {},
     "output_type": "execute_result"
    }
   ],
   "source": [
    "add_numbers(5,3)"
   ]
  },
  {
   "cell_type": "markdown",
   "metadata": {},
   "source": [
    "### type() function."
   ]
  },
  {
   "cell_type": "code",
   "execution_count": 16,
   "metadata": {},
   "outputs": [
    {
     "name": "stdout",
     "output_type": "stream",
     "text": [
      "8 <class 'int'>\n",
      "8 <class 'int'>\n",
      "9.1 <class 'float'>\n",
      "(8+10j) <class 'complex'>\n"
     ]
    }
   ],
   "source": [
    "print(add_numbers(5,3), type(add_numbers(5,3)))\n",
    "print(add_numbers(6,2), type(add_numbers(6,2)))\n",
    "print(add_numbers(5.3,3.8), type(add_numbers(5.3,3.8)))\n",
    "print(add_numbers(5+4j,3+6j), type(add_numbers(5+4j,3+6j)))\n"
   ]
  },
  {
   "cell_type": "markdown",
   "metadata": {},
   "source": [
    "### id() function."
   ]
  },
  {
   "cell_type": "code",
   "execution_count": 28,
   "metadata": {},
   "outputs": [
    {
     "name": "stdout",
     "output_type": "stream",
     "text": [
      "8 \n",
      "\n",
      " 140730227739288\n"
     ]
    }
   ],
   "source": [
    "print(add_numbers(5,3),\"\\n\\n\", id(add_numbers(5,3)))"
   ]
  },
  {
   "cell_type": "markdown",
   "metadata": {},
   "source": [
    "### Extras"
   ]
  },
  {
   "cell_type": "markdown",
   "metadata": {},
   "source": [
    "Importing a Module. (Day_1.py)"
   ]
  },
  {
   "cell_type": "code",
   "execution_count": 18,
   "metadata": {},
   "outputs": [],
   "source": [
    "import Day_1"
   ]
  },
  {
   "cell_type": "code",
   "execution_count": 19,
   "metadata": {},
   "outputs": [
    {
     "data": {
      "text/plain": [
       "['__builtins__',\n",
       " '__cached__',\n",
       " '__doc__',\n",
       " '__file__',\n",
       " '__loader__',\n",
       " '__name__',\n",
       " '__package__',\n",
       " '__spec__',\n",
       " 'add_numbers']"
      ]
     },
     "execution_count": 19,
     "metadata": {},
     "output_type": "execute_result"
    }
   ],
   "source": [
    "dir(Day_1)"
   ]
  },
  {
   "cell_type": "markdown",
   "metadata": {},
   "source": [
    "### Usage of dir() - Function."
   ]
  },
  {
   "cell_type": "markdown",
   "metadata": {},
   "source": [
    "The dir() function in Python is used to find out what names (variables, functions, classes, modules, etc.) a module or object defines. It returns a list of all the identifiers available in the given module, object, or the current local scope (if called without any argument).\n",
    "\n",
    "There are several common use cases for the dir() function:\n",
    "\n",
    "###     1) Inspecting Modules: \n",
    "    \n",
    "    When you call dir() on a Python module, it returns a list of all the names (functions, classes, variables, etc.) defined in that module. This can be helpful for exploring the contents of a module you're working with."
   ]
  },
  {
   "cell_type": "code",
   "execution_count": 20,
   "metadata": {},
   "outputs": [
    {
     "name": "stdout",
     "output_type": "stream",
     "text": [
      "['__doc__', '__loader__', '__name__', '__package__', '__spec__', 'acos', 'acosh', 'asin', 'asinh', 'atan', 'atan2', 'atanh', 'cbrt', 'ceil', 'comb', 'copysign', 'cos', 'cosh', 'degrees', 'dist', 'e', 'erf', 'erfc', 'exp', 'exp2', 'expm1', 'fabs', 'factorial', 'floor', 'fmod', 'frexp', 'fsum', 'gamma', 'gcd', 'hypot', 'inf', 'isclose', 'isfinite', 'isinf', 'isnan', 'isqrt', 'lcm', 'ldexp', 'lgamma', 'log', 'log10', 'log1p', 'log2', 'modf', 'nan', 'nextafter', 'perm', 'pi', 'pow', 'prod', 'radians', 'remainder', 'sin', 'sinh', 'sqrt', 'sumprod', 'tan', 'tanh', 'tau', 'trunc', 'ulp']\n"
     ]
    }
   ],
   "source": [
    "import math\n",
    "print(dir(math))"
   ]
  },
  {
   "cell_type": "markdown",
   "metadata": {},
   "source": [
    "### 2) Exploring Objects:\n",
    " When you call dir() on an object, it returns a list of all the attributes and methods associated with that object. This can be useful for understanding the available functionality of an object."
   ]
  },
  {
   "cell_type": "code",
   "execution_count": 21,
   "metadata": {},
   "outputs": [
    {
     "name": "stdout",
     "output_type": "stream",
     "text": [
      "[1, 2, 3, 4, 56] \n",
      "\n",
      "\n",
      " <class 'list'> n\n",
      "\n",
      " ['__add__', '__class__', '__class_getitem__', '__contains__', '__delattr__', '__delitem__', '__dir__', '__doc__', '__eq__', '__format__', '__ge__', '__getattribute__', '__getitem__', '__getstate__', '__gt__', '__hash__', '__iadd__', '__imul__', '__init__', '__init_subclass__', '__iter__', '__le__', '__len__', '__lt__', '__mul__', '__ne__', '__new__', '__reduce__', '__reduce_ex__', '__repr__', '__reversed__', '__rmul__', '__setattr__', '__setitem__', '__sizeof__', '__str__', '__subclasshook__', 'append', 'clear', 'copy', 'count', 'extend', 'index', 'insert', 'pop', 'remove', 'reverse', 'sort']End of the Program."
     ]
    }
   ],
   "source": [
    "list_1 = [1,2,3,4,56]\n",
    "print(list_1,\"\\n\\n\\n\", type(list_1),\"n\\n\\n\", dir(list_1), end=\"End of the Program.\")"
   ]
  },
  {
   "cell_type": "markdown",
   "metadata": {},
   "source": [
    "### Local Scope Inspection: \n",
    "If you call dir() without an argument in a local scope (inside a function or script), it will list the names defined in that scope. This can help you see the variables and functions available in your current code."
   ]
  },
  {
   "cell_type": "code",
   "execution_count": 22,
   "metadata": {},
   "outputs": [
    {
     "name": "stdout",
     "output_type": "stream",
     "text": [
      "['x', 'y']\n"
     ]
    }
   ],
   "source": [
    "def add_num():\n",
    "    x = 42\n",
    "    y = \"this is a sample statement.\"\n",
    "    print(dir())\n",
    "\n",
    "add_num()"
   ]
  },
  {
   "cell_type": "markdown",
   "metadata": {},
   "source": [
    "### Special Methods and Attributes:\n",
    "\n",
    " dir() can be used to find the special methods and attributes associated with an object, which are often used for operator overloading and customization of object behavior. These special methods are defined with double underscores on both sides (e.g., __init__, __str__, etc.)."
   ]
  },
  {
   "cell_type": "code",
   "execution_count": 23,
   "metadata": {},
   "outputs": [
    {
     "name": "stdout",
     "output_type": "stream",
     "text": [
      "['__class__', '__delattr__', '__dict__', '__dir__', '__doc__', '__eq__', '__format__', '__ge__', '__getattribute__', '__getstate__', '__gt__', '__hash__', '__init__', '__init_subclass__', '__le__', '__lt__', '__module__', '__ne__', '__new__', '__reduce__', '__reduce_ex__', '__repr__', '__setattr__', '__sizeof__', '__str__', '__subclasshook__', '__weakref__', 'data'] \n",
      "\n",
      "\n",
      " MyClass instance \n",
      "\n",
      "\n",
      " [1, 2, 3]\n"
     ]
    }
   ],
   "source": [
    "class MyClass:\n",
    "    def __init__(self):\n",
    "        self.data = [1, 2, 3]\n",
    "    def __str__(self):\n",
    "        return \"MyClass instance\"\n",
    "\n",
    "obj = MyClass()\n",
    "print(dir(obj), \"\\n\\n\\n\", obj,\"\\n\\n\\n\", obj.data)\n"
   ]
  },
  {
   "cell_type": "code",
   "execution_count": 24,
   "metadata": {},
   "outputs": [
    {
     "name": "stdout",
     "output_type": "stream",
     "text": [
      "dir()of the object in the Myclass : \n",
      " ['__class__', '__delattr__', '__dict__', '__dir__', '__doc__', '__eq__', '__format__', '__ge__', '__getattribute__', '__getstate__', '__gt__', '__hash__', '__init__', '__init_subclass__', '__le__', '__lt__', '__module__', '__ne__', '__new__', '__reduce__', '__reduce_ex__', '__repr__', '__setattr__', '__sizeof__', '__str__', '__subclasshook__', '__weakref__', 'data'] \n",
      "\n",
      "The string returned when we call the object : MyClass instance \n",
      "\n",
      "The data's or the variables called for the object : [1, 2, 3] \n",
      "\n"
     ]
    }
   ],
   "source": [
    "print(\"dir()of the object in the Myclass :\",\"\\n\", dir(obj),\"\\n\")\n",
    "print(\"The string returned when we call the object :\", obj, \"\\n\")\n",
    "print(\"The data's or the variables called for the object :\", obj.data, \"\\n\")"
   ]
  },
  {
   "cell_type": "markdown",
   "metadata": {},
   "source": [
    "### Discussed on Today\n",
    "Variables, Data Types, Keywords, Literals, Comments, Doc_strings, Help command, How to use Doc strings using (Help_command, and __doc__), dir(), importing a module & using its functions."
   ]
  },
  {
   "cell_type": "markdown",
   "metadata": {},
   "source": [
    "# Class Work\n",
    "\n",
    "1) Create a simple module named sample.py\n",
    "2) In the sample.py write a simple functions for addision, subtraction, Multiplication and division of two numbers.\n",
    "3) Import the sample.py in the current .ipynb or jupiter notebook and do the following.\n",
    "\n",
    "        1) Call functions of addision , sub, mul and division and print the values.\n",
    "\n",
    "        2) Use dir() on the sample.py\n",
    "        \n",
    "        3) Create a list, tuple or set with values in it, and use dir function to display its values.\n",
    "        \n",
    "        4) Print the variables in the all the functions in the sample.py\n",
    "        \n",
    "        5) How to declare and access the doc string from the sample.py file.\n",
    "        \n",
    "        6) print the variables values, and its results declared in the sample.py, in current jupyter notebook.\n",
    "         \n",
    "        \n",
    "\n",
    "4) Create a notes on Different naming Conventions on \n",
    "        \n",
    "        a) Snake case.\n",
    "        \n",
    "        b) Camel case.\n",
    "        \n",
    "        c) Pascal Case.\n",
    "        \n",
    "5) Create a note on Variable, Literals and Constant.\n",
    "\n",
    "6) write down the different variable forms and create a note on its purpose and its uses.\n",
    "\n",
    "7) Discuss on different data types and its uses, \n",
    "\n",
    "        a) implicit Coercion or implicit Type casting, or Implicit Type Conversion.\n",
    "        \n",
    "        b) explicit Coersion or Explicit Type casting, or Explicit Type Conversion .\n",
    "\n",
    "8) Discuss on the python-in-built functions:\n",
    "\n",
    "        a) input()\n",
    " \n",
    "        b) print()\n",
    " \n",
    "        c) id()\n",
    " \n",
    "        d) type()\n",
    " \n",
    "        f) dir()\n",
    "        \n",
    "        g) help()"
   ]
  }
 ],
 "metadata": {
  "kernelspec": {
   "display_name": "venv",
   "language": "python",
   "name": "python3"
  },
  "language_info": {
   "codemirror_mode": {
    "name": "ipython",
    "version": 3
   },
   "file_extension": ".py",
   "mimetype": "text/x-python",
   "name": "python",
   "nbconvert_exporter": "python",
   "pygments_lexer": "ipython3",
   "version": "3.12.0"
  }
 },
 "nbformat": 4,
 "nbformat_minor": 2
}
