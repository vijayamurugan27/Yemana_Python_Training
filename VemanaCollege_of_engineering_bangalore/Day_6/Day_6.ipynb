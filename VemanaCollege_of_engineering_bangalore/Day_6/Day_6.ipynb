{
 "cells": [
  {
   "cell_type": "code",
   "execution_count": 1,
   "metadata": {},
   "outputs": [
    {
     "name": "stdout",
     "output_type": "stream",
     "text": [
      "hello world\n"
     ]
    }
   ],
   "source": [
    "print(\"hello world\")"
   ]
  },
  {
   "cell_type": "markdown",
   "metadata": {},
   "source": [
    "Topics: \n",
    "Assert\n",
    "Regex\n",
    "iter tools\n"
   ]
  },
  {
   "cell_type": "markdown",
   "metadata": {},
   "source": [
    "In Python, the assert statement is used to check whether a given condition is True. If the condition is True, the program continues to execute as normal. If the condition is False, an AssertionError exception is raised, and the program terminates. The assert statement is typically used for debugging and to catch programming errors during development.\n",
    "\n",
    "The basic syntax of the assert statement is as follows:"
   ]
  },
  {
   "cell_type": "code",
   "execution_count": null,
   "metadata": {},
   "outputs": [],
   "source": [
    "assert condition, message\n"
   ]
  },
  {
   "cell_type": "markdown",
   "metadata": {},
   "source": [
    "    condition is the expression that you want to check. If it evaluates to True, the program continues without any issues. If it evaluates to False, an AssertionError is raised.\n",
    "\n",
    "    message (optional) is an optional message that you can provide to clarify the reason for the assertion. This message is included in the AssertionError exception, which can be helpful for debugging."
   ]
  },
  {
   "cell_type": "code",
   "execution_count": 2,
   "metadata": {},
   "outputs": [
    {
     "name": "stdout",
     "output_type": "stream",
     "text": [
      "5.0\n"
     ]
    },
    {
     "ename": "AssertionError",
     "evalue": "Division by zero is not allowed",
     "output_type": "error",
     "traceback": [
      "\u001b[1;31m---------------------------------------------------------------------------\u001b[0m",
      "\u001b[1;31mAssertionError\u001b[0m                            Traceback (most recent call last)",
      "\u001b[1;32mc:\\Users\\VIJAY\\OneDrive\\Desktop\\CSE_vemana\\Yemana_Python_Training-main\\Yemana_Python_Training-main\\VemanaCollege_of_engineering_bangalore\\Day_6\\Day_6.ipynb Cell 6\u001b[0m line \u001b[0;36m8\n\u001b[0;32m      <a href='vscode-notebook-cell:/c%3A/Users/VIJAY/OneDrive/Desktop/CSE_vemana/Yemana_Python_Training-main/Yemana_Python_Training-main/VemanaCollege_of_engineering_bangalore/Day_6/Day_6.ipynb#W6sZmlsZQ%3D%3D?line=4'>5</a>\u001b[0m result \u001b[39m=\u001b[39m divide(\u001b[39m10\u001b[39m, \u001b[39m2\u001b[39m)  \u001b[39m# This will work without any issues\u001b[39;00m\n\u001b[0;32m      <a href='vscode-notebook-cell:/c%3A/Users/VIJAY/OneDrive/Desktop/CSE_vemana/Yemana_Python_Training-main/Yemana_Python_Training-main/VemanaCollege_of_engineering_bangalore/Day_6/Day_6.ipynb#W6sZmlsZQ%3D%3D?line=5'>6</a>\u001b[0m \u001b[39mprint\u001b[39m(result)\n\u001b[1;32m----> <a href='vscode-notebook-cell:/c%3A/Users/VIJAY/OneDrive/Desktop/CSE_vemana/Yemana_Python_Training-main/Yemana_Python_Training-main/VemanaCollege_of_engineering_bangalore/Day_6/Day_6.ipynb#W6sZmlsZQ%3D%3D?line=7'>8</a>\u001b[0m result \u001b[39m=\u001b[39m divide(\u001b[39m10\u001b[39;49m, \u001b[39m0\u001b[39;49m)  \u001b[39m# This will raise an AssertionError with the provided message\u001b[39;00m\n",
      "\u001b[1;32mc:\\Users\\VIJAY\\OneDrive\\Desktop\\CSE_vemana\\Yemana_Python_Training-main\\Yemana_Python_Training-main\\VemanaCollege_of_engineering_bangalore\\Day_6\\Day_6.ipynb Cell 6\u001b[0m line \u001b[0;36m2\n\u001b[0;32m      <a href='vscode-notebook-cell:/c%3A/Users/VIJAY/OneDrive/Desktop/CSE_vemana/Yemana_Python_Training-main/Yemana_Python_Training-main/VemanaCollege_of_engineering_bangalore/Day_6/Day_6.ipynb#W6sZmlsZQ%3D%3D?line=0'>1</a>\u001b[0m \u001b[39mdef\u001b[39;00m \u001b[39mdivide\u001b[39m(a, b):\n\u001b[1;32m----> <a href='vscode-notebook-cell:/c%3A/Users/VIJAY/OneDrive/Desktop/CSE_vemana/Yemana_Python_Training-main/Yemana_Python_Training-main/VemanaCollege_of_engineering_bangalore/Day_6/Day_6.ipynb#W6sZmlsZQ%3D%3D?line=1'>2</a>\u001b[0m     \u001b[39massert\u001b[39;00m b \u001b[39m!=\u001b[39m \u001b[39m0\u001b[39m, \u001b[39m\"\u001b[39m\u001b[39mDivision by zero is not allowed\u001b[39m\u001b[39m\"\u001b[39m\n\u001b[0;32m      <a href='vscode-notebook-cell:/c%3A/Users/VIJAY/OneDrive/Desktop/CSE_vemana/Yemana_Python_Training-main/Yemana_Python_Training-main/VemanaCollege_of_engineering_bangalore/Day_6/Day_6.ipynb#W6sZmlsZQ%3D%3D?line=2'>3</a>\u001b[0m     \u001b[39mreturn\u001b[39;00m a \u001b[39m/\u001b[39m b\n",
      "\u001b[1;31mAssertionError\u001b[0m: Division by zero is not allowed"
     ]
    }
   ],
   "source": [
    "def divide(a, b):\n",
    "    assert b != 0, \"Division by zero is not allowed\"\n",
    "    return a / b\n",
    "\n",
    "result = divide(10, 2)  # This will work without any issues\n",
    "print(result)\n",
    "\n",
    "result = divide(10, 0)  # This will raise an AssertionError with the provided message\n"
   ]
  },
  {
   "cell_type": "markdown",
   "metadata": {},
   "source": [
    "In this example, the assert statement checks whether b is not equal to zero before performing the division operation. If b is zero, an AssertionError is raised with the specified message.\n",
    "\n",
    "It's important to note that assertions are typically used during development and debugging, and they can be disabled globally at runtime by using the -O (optimize) command-line switch when running a Python script. When optimization is enabled, assertions are ignored, so they have no effect. This is done to improve performance in production code."
   ]
  },
  {
   "cell_type": "markdown",
   "metadata": {},
   "source": [
    "### Iter tools"
   ]
  },
  {
   "cell_type": "markdown",
   "metadata": {},
   "source": [
    "In Python, the itertools module is a standard library module that provides a set of fast, memory-efficient tools for working with iterators and iterable objects. The module includes functions and classes that allow you to work with iterators, create iterators, and perform various operations on sequences efficiently. The itertools module is a valuable resource for tasks like iteration, permutation, combination, and more. Here are some commonly used functions and classes from the itertools module:\n",
    "\n",
    "    itertools.count(start=0, step=1): This function returns an infinite iterator that generates a sequence of numbers starting from start and incrementing by step in each iteration.\n",
    "\n",
    "    itertools.cycle(iterable): It returns an infinite iterator that cycles through the elements of the given iterable in a loop.\n",
    "\n",
    "    itertools.repeat(element, times=None): This function returns an iterator that repeatedly yields the same element times number of times if specified, or indefinitely if times is not provided.\n",
    "\n",
    "    itertools.islice(iterable, start, stop, step): It's used to slice an iterable in a similar way to the built-in slice() function. It returns an iterator that yields elements from start to stop with a specified step.\n",
    "\n",
    "    itertools.chain(*iterables): This function combines multiple iterable objects into a single iterable. It concatenates the elements from the input iterables.\n",
    "\n",
    "    itertools.compress(data, selectors): It returns an iterator that yields elements from data where the corresponding element in selectors is True.\n",
    "\n",
    "    itertools.filterfalse(predicate, iterable): It returns an iterator that yields elements from iterable for which the predicate function returns False.\n",
    "\n",
    "    itertools.groupby(iterable, key=None): It groups elements from the iterable based on the key function and returns an iterator of pairs containing the key and a group iterator.\n",
    "\n",
    "    itertools.permutations(iterable, r=None): It returns an iterator that yields all possible r length permutations of elements from the iterable.\n",
    "\n",
    "    itertools.combinations(iterable, r): This function returns an iterator that yields all possible combinations of r elements from the iterable.\n",
    "\n",
    "    itertools.combinations_with_replacement(iterable, r): It returns an iterator that yields all possible combinations with replacement of r elements from the iterable.\n",
    "\n",
    "    itertools.product(*iterables, repeat=1): It returns an iterator that computes the Cartesian product of the input iterables.\n",
    "\n",
    "    itertools.tee(iterable, n=2): This function returns n independent iterators from a single input iterable.\n",
    "\n",
    "    itertools.zip_longest(*iterables, fillvalue=None): It returns an iterator that aggregates elements from multiple iterables, filling in missing values with the specified fillvalue.\n",
    "\n",
    "These are just some of the functions and classes available in the itertools module. They can be very helpful for various iteration and combinatorial tasks in Python. To use the itertools module, you need to import it first using import itertools."
   ]
  },
  {
   "cell_type": "markdown",
   "metadata": {},
   "source": [
    "Using itertools.count to generate an infinite sequence of numbers"
   ]
  },
  {
   "cell_type": "code",
   "execution_count": 3,
   "metadata": {},
   "outputs": [
    {
     "name": "stdout",
     "output_type": "stream",
     "text": [
      "1\n",
      "2\n",
      "3\n",
      "4\n",
      "5\n"
     ]
    }
   ],
   "source": [
    "import itertools\n",
    "\n",
    "# Create an iterator that generates numbers starting from 1\n",
    "counter = itertools.count(start=1)\n",
    "\n",
    "# Print the first 5 numbers\n",
    "for _ in range(5):\n",
    "    print(next(counter))\n"
   ]
  },
  {
   "cell_type": "markdown",
   "metadata": {},
   "source": [
    "Using itertools.cycle to cycle through elements of a list:"
   ]
  },
  {
   "cell_type": "code",
   "execution_count": 4,
   "metadata": {},
   "outputs": [
    {
     "name": "stdout",
     "output_type": "stream",
     "text": [
      "red\n",
      "green\n",
      "blue\n",
      "red\n",
      "green\n",
      "blue\n",
      "red\n",
      "green\n"
     ]
    }
   ],
   "source": [
    "import itertools\n",
    "\n",
    "colors = ['red', 'green', 'blue']\n",
    "color_cycle = itertools.cycle(colors)\n",
    "\n",
    "# Print the next 8 colors in a loop\n",
    "for _ in range(8):\n",
    "    print(next(color_cycle))\n"
   ]
  },
  {
   "cell_type": "markdown",
   "metadata": {},
   "source": [
    "Using itertools.repeat to repeat an element a specified number of times:"
   ]
  },
  {
   "cell_type": "code",
   "execution_count": 5,
   "metadata": {},
   "outputs": [
    {
     "name": "stdout",
     "output_type": "stream",
     "text": [
      "42\n",
      "42\n",
      "42\n"
     ]
    }
   ],
   "source": [
    "import itertools\n",
    "\n",
    "# Create an iterator that repeats the number 42 three times\n",
    "repeater = itertools.repeat(42, times=3)\n",
    "\n",
    "# Print the repeated values\n",
    "for value in repeater:\n",
    "    print(value)\n"
   ]
  },
  {
   "cell_type": "markdown",
   "metadata": {},
   "source": [
    "Using itertools.chain to combine multiple iterables:"
   ]
  },
  {
   "cell_type": "code",
   "execution_count": 6,
   "metadata": {},
   "outputs": [
    {
     "name": "stdout",
     "output_type": "stream",
     "text": [
      "1\n",
      "2\n",
      "3\n",
      "4\n",
      "5\n",
      "6\n",
      "7\n",
      "8\n",
      "9\n"
     ]
    }
   ],
   "source": [
    "import itertools\n",
    "\n",
    "list1 = [1, 2, 3]\n",
    "list2 = [4, 5, 6]\n",
    "list3 = [7, 8, 9]\n",
    "\n",
    "# Create a single iterator by chaining the three lists\n",
    "combined = itertools.chain(list1, list2, list3)\n",
    "\n",
    "# Print the combined values\n",
    "for value in combined:\n",
    "    print(value)\n"
   ]
  },
  {
   "cell_type": "markdown",
   "metadata": {},
   "source": [
    "Using itertools.permutations to generate permutations of elements:"
   ]
  },
  {
   "cell_type": "code",
   "execution_count": 7,
   "metadata": {},
   "outputs": [
    {
     "name": "stdout",
     "output_type": "stream",
     "text": [
      "(1, 2)\n",
      "(1, 3)\n",
      "(2, 1)\n",
      "(2, 3)\n",
      "(3, 1)\n",
      "(3, 2)\n"
     ]
    }
   ],
   "source": [
    "import itertools\n",
    "\n",
    "elements = [1, 2, 3]\n",
    "permutations = itertools.permutations(elements, r=2)\n",
    "\n",
    "# Print all 2-length permutations of the elements\n",
    "for perm in permutations:\n",
    "    print(perm)\n"
   ]
  },
  {
   "cell_type": "markdown",
   "metadata": {},
   "source": [
    "Using itertools.combinations to generate combinations of elements:"
   ]
  },
  {
   "cell_type": "code",
   "execution_count": 8,
   "metadata": {},
   "outputs": [
    {
     "name": "stdout",
     "output_type": "stream",
     "text": [
      "(1, 2)\n",
      "(1, 3)\n",
      "(1, 4)\n",
      "(2, 3)\n",
      "(2, 4)\n",
      "(3, 4)\n"
     ]
    }
   ],
   "source": [
    "import itertools\n",
    "\n",
    "elements = [1, 2, 3, 4]\n",
    "combinations = itertools.combinations(elements, r=2)\n",
    "\n",
    "# Print all 2-length combinations of the elements\n",
    "for comb in combinations:\n",
    "    print(comb)\n"
   ]
  },
  {
   "cell_type": "markdown",
   "metadata": {},
   "source": [
    "### Regex in python"
   ]
  },
  {
   "cell_type": "markdown",
   "metadata": {},
   "source": [
    "In Python, you can work with regular expressions using the re module, which is part of the Python standard library. Regular expressions (regex or regexp) are powerful pattern-matching tools that allow you to search for, extract, and manipulate text based on patterns. Here's an overview of how to use the re module in Python:\n",
    "\n",
    "    Import the re module:\n",
    "\n",
    "    First, you need to import the re module in your Python script or program:"
   ]
  },
  {
   "cell_type": "code",
   "execution_count": 9,
   "metadata": {},
   "outputs": [],
   "source": [
    "import re\n"
   ]
  },
  {
   "cell_type": "code",
   "execution_count": 10,
   "metadata": {},
   "outputs": [
    {
     "data": {
      "text/plain": [
       "['A',\n",
       " 'ASCII',\n",
       " 'DEBUG',\n",
       " 'DOTALL',\n",
       " 'I',\n",
       " 'IGNORECASE',\n",
       " 'L',\n",
       " 'LOCALE',\n",
       " 'M',\n",
       " 'MULTILINE',\n",
       " 'Match',\n",
       " 'NOFLAG',\n",
       " 'Pattern',\n",
       " 'RegexFlag',\n",
       " 'S',\n",
       " 'Scanner',\n",
       " 'T',\n",
       " 'TEMPLATE',\n",
       " 'U',\n",
       " 'UNICODE',\n",
       " 'VERBOSE',\n",
       " 'X',\n",
       " '_MAXCACHE',\n",
       " '_MAXCACHE2',\n",
       " '__all__',\n",
       " '__builtins__',\n",
       " '__cached__',\n",
       " '__doc__',\n",
       " '__file__',\n",
       " '__loader__',\n",
       " '__name__',\n",
       " '__package__',\n",
       " '__path__',\n",
       " '__spec__',\n",
       " '__version__',\n",
       " '_cache',\n",
       " '_cache2',\n",
       " '_casefix',\n",
       " '_compile',\n",
       " '_compile_template',\n",
       " '_compiler',\n",
       " '_constants',\n",
       " '_parser',\n",
       " '_pickle',\n",
       " '_special_chars_map',\n",
       " '_sre',\n",
       " 'compile',\n",
       " 'copyreg',\n",
       " 'enum',\n",
       " 'error',\n",
       " 'escape',\n",
       " 'findall',\n",
       " 'finditer',\n",
       " 'fullmatch',\n",
       " 'functools',\n",
       " 'match',\n",
       " 'purge',\n",
       " 'search',\n",
       " 'split',\n",
       " 'sub',\n",
       " 'subn',\n",
       " 'template']"
      ]
     },
     "execution_count": 10,
     "metadata": {},
     "output_type": "execute_result"
    }
   ],
   "source": [
    "dir(re)"
   ]
  },
  {
   "cell_type": "markdown",
   "metadata": {},
   "source": [
    "Creating a Regular Expression Pattern:\n",
    "\n",
    "Regular expressions consist of a combination of special characters and alphanumeric characters that define a search pattern. For example, to match a simple word like \"apple,\" you can create a regex pattern as follows:"
   ]
  },
  {
   "cell_type": "code",
   "execution_count": 11,
   "metadata": {},
   "outputs": [],
   "source": [
    "pattern = r\"apple\"\n"
   ]
  },
  {
   "cell_type": "markdown",
   "metadata": {},
   "source": [
    "The r before the string denotes a \"raw\" string, which is used to prevent Python from interpreting backslashes as escape characters within the regular expression pattern.\n",
    "\n",
    "Searching for Patterns:\n",
    "\n",
    "You can use the re.search() function to search for a pattern within a text string. It returns a match object or None if no match is found."
   ]
  },
  {
   "cell_type": "code",
   "execution_count": 12,
   "metadata": {},
   "outputs": [
    {
     "name": "stdout",
     "output_type": "stream",
     "text": [
      "Match found: apple\n"
     ]
    }
   ],
   "source": [
    "text = \"I have an apple and a banana.\"\n",
    "pattern = r\"apple\"\n",
    "\n",
    "match = re.search(pattern, text)\n",
    "\n",
    "if match:\n",
    "    print(\"Match found:\", match.group())\n",
    "else:\n",
    "    print(\"No match found.\")\n"
   ]
  },
  {
   "cell_type": "markdown",
   "metadata": {},
   "source": [
    "Using Regular Expression Functions:\n",
    "\n",
    "The re module provides various functions for working with regular expressions, including re.search(), re.match(), re.finditer(), re.findall(), and more.\n",
    "\n",
    "    re.search(): Searches for the first occurrence of the pattern in the text.\n",
    "    re.match(): Matches the pattern only at the beginning of the text.\n",
    "    re.finditer(): Returns an iterator yielding match objects for all occurrences of the pattern.\n",
    "    re.findall(): Returns a list of all non-overlapping matches in the text.\n",
    "\n",
    "Regular Expression Flags:\n",
    "\n",
    "You can use flags as optional arguments in re functions to modify the behavior of regular expressions. For example, the re.IGNORECASE flag can be used to perform case-insensitive matching."
   ]
  },
  {
   "cell_type": "code",
   "execution_count": 13,
   "metadata": {},
   "outputs": [
    {
     "name": "stdout",
     "output_type": "stream",
     "text": [
      "Match found: Apple\n"
     ]
    }
   ],
   "source": [
    "pattern = r\"apple\"\n",
    "text = \"I have an Apple and a banana.\"\n",
    "\n",
    "match = re.search(pattern, text, re.IGNORECASE)\n",
    "\n",
    "if match:\n",
    "    print(\"Match found:\", match.group())\n"
   ]
  },
  {
   "cell_type": "markdown",
   "metadata": {},
   "source": [
    "    Regular Expression Patterns:\n",
    "\n",
    "    Regular expressions can include various special characters to define patterns, such as:\n",
    "        .: Matches any character except a newline.\n",
    "        *: Matches 0 or more occurrences of the preceding expression.\n",
    "        +: Matches 1 or more occurrences of the preceding expression.\n",
    "        ?: Matches 0 or 1 occurrence of the preceding expression.\n",
    "        []: Defines a character class, e.g., [aeiou] matches any vowel.\n",
    "        |: Acts as an OR operator, e.g., a|b matches either \"a\" or \"b\".\n",
    "        ^: Matches the start of a line.\n",
    "        $: Matches the end of a line.\n",
    "\n",
    "Here's a basic example of using regular expressions to extract email addresses from a text:"
   ]
  },
  {
   "cell_type": "code",
   "execution_count": 14,
   "metadata": {},
   "outputs": [
    {
     "name": "stdout",
     "output_type": "stream",
     "text": [
      "Found email: support@example.com\n",
      "Found email: sales@company.com\n"
     ]
    }
   ],
   "source": [
    "import re\n",
    "\n",
    "text = \"Contact us at support@example.com or sales@company.com\"\n",
    "pattern = r\"[\\w.-]+@[\\w.-]+\"\n",
    "emails = re.findall(pattern, text)\n",
    "\n",
    "for email in emails:\n",
    "    print(\"Found email:\", email)\n"
   ]
  },
  {
   "cell_type": "markdown",
   "metadata": {},
   "source": [
    "Using re.search():\n",
    "\n",
    "re.search() searches for the first occurrence of a pattern in a text:"
   ]
  },
  {
   "cell_type": "code",
   "execution_count": 15,
   "metadata": {},
   "outputs": [
    {
     "name": "stdout",
     "output_type": "stream",
     "text": [
      "Match found: fox\n"
     ]
    }
   ],
   "source": [
    "import re\n",
    "\n",
    "text = \"The quick brown fox jumps over the lazy dog.\"\n",
    "pattern = r\"fox\"\n",
    "\n",
    "match = re.search(pattern, text)\n",
    "\n",
    "if match:\n",
    "    print(\"Match found:\", match.group())\n",
    "else:\n",
    "    print(\"No match found.\")\n"
   ]
  },
  {
   "cell_type": "markdown",
   "metadata": {},
   "source": [
    "Using re.match():\n",
    "\n",
    "re.match() matches the pattern only at the beginning of the text:"
   ]
  },
  {
   "cell_type": "code",
   "execution_count": 16,
   "metadata": {},
   "outputs": [
    {
     "name": "stdout",
     "output_type": "stream",
     "text": [
      "Match found: The\n"
     ]
    }
   ],
   "source": [
    "import re\n",
    "\n",
    "text = \"The quick brown fox jumps over the lazy dog.\"\n",
    "pattern = r\"The\"\n",
    "\n",
    "match = re.match(pattern, text)\n",
    "\n",
    "if match:\n",
    "    print(\"Match found:\", match.group())\n",
    "else:\n",
    "    print(\"No match found.\")\n"
   ]
  },
  {
   "cell_type": "markdown",
   "metadata": {},
   "source": [
    "Using re.finditer():\n",
    "\n",
    "re.finditer() returns an iterator yielding match objects for all occurrences of the pattern:"
   ]
  },
  {
   "cell_type": "code",
   "execution_count": 17,
   "metadata": {},
   "outputs": [
    {
     "name": "stdout",
     "output_type": "stream",
     "text": [
      "Match found at index: 16\n",
      "Match found at index: 49\n"
     ]
    }
   ],
   "source": [
    "import re\n",
    "\n",
    "text = \"The quick brown fox jumps over the lazy dog. The fox is fast.\"\n",
    "pattern = r\"fox\"\n",
    "\n",
    "matches = re.finditer(pattern, text)\n",
    "\n",
    "for match in matches:\n",
    "    print(\"Match found at index:\", match.start())\n"
   ]
  },
  {
   "cell_type": "markdown",
   "metadata": {},
   "source": [
    "Using re.findall():\n",
    "\n",
    "re.findall() returns a list of all non-overlapping matches in the text:"
   ]
  },
  {
   "cell_type": "code",
   "execution_count": 18,
   "metadata": {},
   "outputs": [
    {
     "name": "stdout",
     "output_type": "stream",
     "text": [
      "Match found: fox\n",
      "Match found: fox\n"
     ]
    }
   ],
   "source": [
    "import re\n",
    "\n",
    "text = \"The quick brown fox jumps over the lazy dog. The fox is fast.\"\n",
    "pattern = r\"fox\"\n",
    "\n",
    "matches = re.findall(pattern, text)\n",
    "\n",
    "if matches:\n",
    "    for match in matches:\n",
    "        print(\"Match found:\", match)\n",
    "else:\n",
    "    print(\"No matches found.\")\n"
   ]
  }
 ],
 "metadata": {
  "kernelspec": {
   "display_name": "venv",
   "language": "python",
   "name": "python3"
  },
  "language_info": {
   "codemirror_mode": {
    "name": "ipython",
    "version": 3
   },
   "file_extension": ".py",
   "mimetype": "text/x-python",
   "name": "python",
   "nbconvert_exporter": "python",
   "pygments_lexer": "ipython3",
   "version": "3.12.0"
  }
 },
 "nbformat": 4,
 "nbformat_minor": 2
}
