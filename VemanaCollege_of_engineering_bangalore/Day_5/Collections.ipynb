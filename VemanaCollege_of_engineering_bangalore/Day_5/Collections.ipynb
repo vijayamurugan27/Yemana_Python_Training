{
 "cells": [
  {
   "cell_type": "code",
   "execution_count": 1,
   "metadata": {},
   "outputs": [
    {
     "name": "stdout",
     "output_type": "stream",
     "text": [
      "Hello world\n"
     ]
    }
   ],
   "source": [
    "print(\"Hello world\")"
   ]
  },
  {
   "cell_type": "markdown",
   "metadata": {},
   "source": [
    "### Python's collections module provides various specialized container data types that are extensions of the built-in data types. Here are some commonly used data structures and functions from the collections module along with examples:"
   ]
  },
  {
   "cell_type": "markdown",
   "metadata": {},
   "source": [
    "Counter:\n",
    "\n",
    "The Counter is a dictionary subclass used for counting the frequency of elements in an iterable."
   ]
  },
  {
   "cell_type": "code",
   "execution_count": 6,
   "metadata": {},
   "outputs": [
    {
     "name": "stdout",
     "output_type": "stream",
     "text": [
      "Counter({1: 5, 2: 4, 3: 4, 4: 4, 34: 1, 45: 1})\n"
     ]
    }
   ],
   "source": [
    "from collections import Counter\n",
    "\n",
    "data = [1,1,1,1,1, 2,2,2,3,34,45 ,2, 3, 3, 3, 4, 4, 4, 4]\n",
    "count = Counter(data)\n",
    "print(count)\n",
    "# Output: Counter({4: 4, 3: 3, 2: 2, 1: 1})\n"
   ]
  },
  {
   "cell_type": "markdown",
   "metadata": {},
   "source": [
    "defaultdict:\n",
    "\n",
    "defaultdict is a dictionary subclass that provides default values for missing keys."
   ]
  },
  {
   "cell_type": "code",
   "execution_count": 7,
   "metadata": {},
   "outputs": [
    {
     "name": "stdout",
     "output_type": "stream",
     "text": [
      "0\n"
     ]
    }
   ],
   "source": [
    "from collections import defaultdict\n",
    "\n",
    "d = defaultdict(int)\n",
    "d['a'] += 1\n",
    "d['b'] += 2\n",
    "print(d['c'])  # Defaults to 0\n"
   ]
  },
  {
   "cell_type": "markdown",
   "metadata": {},
   "source": [
    "namedtuple:\n",
    "\n",
    "namedtuple creates a simple class with named fields, similar to a tuple."
   ]
  },
  {
   "cell_type": "code",
   "execution_count": 8,
   "metadata": {},
   "outputs": [
    {
     "name": "stdout",
     "output_type": "stream",
     "text": [
      "1 2\n"
     ]
    }
   ],
   "source": [
    "from collections import namedtuple\n",
    "\n",
    "Point = namedtuple('Point', ['x', 'y'])\n",
    "p = Point(1, 2)\n",
    "print(p.x, p.y)\n"
   ]
  },
  {
   "cell_type": "markdown",
   "metadata": {},
   "source": [
    "deque:\n",
    "\n",
    "A deque is a double-ended queue, which supports fast insertion and deletion at both ends."
   ]
  },
  {
   "cell_type": "code",
   "execution_count": 11,
   "metadata": {},
   "outputs": [
    {
     "data": {
      "text/plain": [
       "4"
      ]
     },
     "execution_count": 11,
     "metadata": {},
     "output_type": "execute_result"
    }
   ],
   "source": [
    "from collections import deque\n",
    "\n",
    "dq = deque([1, 2, 3])\n",
    "dq.append(4)\n",
    "dq.appendleft(0)\n",
    "# dq.popleft()\n",
    "dq.pop()\n"
   ]
  },
  {
   "cell_type": "markdown",
   "metadata": {},
   "source": [
    "OrderedDict:\n",
    "\n",
    "OrderedDict is a dictionary that remembers the order of items added."
   ]
  },
  {
   "cell_type": "code",
   "execution_count": 14,
   "metadata": {},
   "outputs": [
    {
     "name": "stdout",
     "output_type": "stream",
     "text": [
      "OrderedDict({'a': 3, 'b': 2, 'c': 1})\n"
     ]
    }
   ],
   "source": [
    "from collections import OrderedDict\n",
    "\n",
    "d = OrderedDict()\n",
    "d['a'] = 3\n",
    "d['b'] = 2\n",
    "d['c'] = 1\n",
    "print(d)\n"
   ]
  },
  {
   "cell_type": "markdown",
   "metadata": {},
   "source": [
    "ChainMap:\n",
    "\n",
    "ChainMap is a dictionary-like class for creating a single view of multiple mappings."
   ]
  },
  {
   "cell_type": "code",
   "execution_count": 15,
   "metadata": {},
   "outputs": [
    {
     "name": "stdout",
     "output_type": "stream",
     "text": [
      "2\n"
     ]
    }
   ],
   "source": [
    "from collections import ChainMap\n",
    "\n",
    "dict1 = {'a': 1, 'b': 2}\n",
    "dict2 = {'b': 3, 'c': 4}\n",
    "combined = ChainMap(dict1, dict2)\n",
    "print(combined['b'])  # Outputs 2 (from dict1)\n"
   ]
  },
  {
   "cell_type": "markdown",
   "metadata": {},
   "source": [
    "Counter.most_common():\n",
    "\n",
    "This method is used with Counter to get the most common elements and their counts."
   ]
  },
  {
   "cell_type": "code",
   "execution_count": 18,
   "metadata": {},
   "outputs": [
    {
     "name": "stdout",
     "output_type": "stream",
     "text": [
      "[(1, 6), (3, 6)]\n"
     ]
    }
   ],
   "source": [
    "from collections import Counter\n",
    "\n",
    "data = [1,1,1,1,1,1, 2, 2, 3, 3, 3,3,3,3, 4, 4, 4, 4]\n",
    "count = Counter(data)\n",
    "common = count.most_common(2)\n",
    "print(common)\n",
    "# Output: [(4, 4), (3, 3)]\n"
   ]
  },
  {
   "cell_type": "markdown",
   "metadata": {},
   "source": [
    "deque.rotate():\n",
    "\n",
    "This method is used with deque to rotate its elements by a specified number of steps."
   ]
  },
  {
   "cell_type": "code",
   "execution_count": 20,
   "metadata": {},
   "outputs": [
    {
     "name": "stdout",
     "output_type": "stream",
     "text": [
      "deque([4, 5, 1, 2, 3])\n"
     ]
    }
   ],
   "source": [
    "from collections import deque\n",
    "\n",
    "dq = deque([1, 2, 3, 4, 5])\n",
    "dq.rotate(2)\n",
    "# dq is now [4, 5, 1, 2, 3]\n",
    "print(dq)\n"
   ]
  }
 ],
 "metadata": {
  "kernelspec": {
   "display_name": "venv",
   "language": "python",
   "name": "python3"
  },
  "language_info": {
   "codemirror_mode": {
    "name": "ipython",
    "version": 3
   },
   "file_extension": ".py",
   "mimetype": "text/x-python",
   "name": "python",
   "nbconvert_exporter": "python",
   "pygments_lexer": "ipython3",
   "version": "3.12.0"
  }
 },
 "nbformat": 4,
 "nbformat_minor": 2
}
