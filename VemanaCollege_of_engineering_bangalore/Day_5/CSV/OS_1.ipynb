{
 "cells": [
  {
   "cell_type": "code",
   "execution_count": null,
   "metadata": {},
   "outputs": [],
   "source": [
    "import os\n",
    "dir(os)"
   ]
  },
  {
   "cell_type": "markdown",
   "metadata": {},
   "source": [
    "The os module in Python provides a way to interact with the operating system, allowing you to perform various system-related tasks. Here are some common commands and functions that you can use with the os module:\n",
    "\n",
    "    Working with File and Directory Paths:\n",
    "        os.path.join(path, *paths): Join one or more path components intelligently.\n",
    "        os.path.abspath(path): Return an absolute version of a path.\n",
    "        os.path.dirname(path): Return the directory name of a path.\n",
    "        os.path.basename(path): Return the base name of a path.\n",
    "        os.path.exists(path): Check if a path exists.\n",
    "        os.path.isfile(path): Check if a path is a regular file.\n",
    "        os.path.isdir(path): Check if a path is a directory.\n",
    "        os.path.splitext(path): Split the file extension from a path.\n",
    "        os.path.getsize(path): Get the size of a file in bytes.\n",
    "\n",
    "    Directory and File Operations:\n",
    "        os.mkdir(path): Create a directory.\n",
    "        os.makedirs(path, exist_ok=True): Create directories recursively, with an option to ignore if the directory already exists.\n",
    "        os.remove(path): Remove a file.\n",
    "        os.rmdir(path): Remove a directory.\n",
    "        os.unlink(path): An alias for os.remove.\n",
    "        os.removedirs(path): Remove directories recursively.\n",
    "        os.rename(src, dst): Rename a file or directory.\n",
    "        os.listdir(path): List files and directories in a directory.\n",
    "\n",
    "    Environment Variables:\n",
    "        os.environ: A dictionary containing the current environment variables.\n",
    "        os.getenv(varname, default): Get the value of an environment variable, with an optional default value.\n",
    "\n",
    "    Miscellaneous:\n",
    "        os.getcwd(): Get the current working directory.\n",
    "        os.chdir(path): Change the current working directory.\n",
    "        os.system(command): Run a shell command.\n",
    "        os.getpid(): Get the current process ID.\n",
    "        os.getlogin(): Get the name of the user logged in.\n",
    "        os.utime(path, times): Set the access and modification times of a file.\n",
    "\n",
    "These are some of the common commands provided by the os module. Depending on your needs, you can use these functions to interact with the file system, manage directories, and work with environment variables. Keep in mind that the availability and behavior of some functions may vary depending on the operating system you are using (e.g., Windows, Linux, macOS)."
   ]
  },
  {
   "cell_type": "markdown",
   "metadata": {},
   "source": [
    "Working with File and Directory Paths:\n",
    "\n",
    "    os.path.join(path, *paths):"
   ]
  },
  {
   "cell_type": "code",
   "execution_count": null,
   "metadata": {},
   "outputs": [],
   "source": [
    "import os\n",
    "dir_path = \"Users/VIJAY/OneDrive/Desktop/\"\n",
    "file_name = \"example.txt\"\n",
    "full_path = os.path.join(dir_path, file_name)\n",
    "print(full_path)  # Output: /usr/local/example.txt\n"
   ]
  },
  {
   "cell_type": "markdown",
   "metadata": {},
   "source": [
    "os.path.abspath(path):"
   ]
  },
  {
   "cell_type": "code",
   "execution_count": null,
   "metadata": {},
   "outputs": [],
   "source": [
    "import os\n",
    "rel_path = \"CSV/50_Startups.csv\"\n",
    "abs_path = os.path.abspath(rel_path)\n",
    "print(abs_path)\n"
   ]
  },
  {
   "cell_type": "markdown",
   "metadata": {},
   "source": [
    "os.path.exists(path):"
   ]
  },
  {
   "cell_type": "code",
   "execution_count": null,
   "metadata": {},
   "outputs": [],
   "source": [
    "import os\n",
    "path = \"Users/VIJAY/OneDrive/Desktop/example.txt\"\n",
    "if os.path.exists(path):\n",
    "    print(\"File exists\")\n",
    "else:\n",
    "    print(\"File does not exist\")\n"
   ]
  },
  {
   "cell_type": "markdown",
   "metadata": {},
   "source": [
    "### Directory and File Operations:\n",
    "\n",
    "    os.mkdir(path):"
   ]
  },
  {
   "cell_type": "code",
   "execution_count": null,
   "metadata": {},
   "outputs": [],
   "source": [
    "import os\n",
    "new_dir = \"/path/to/new_directory\"\n",
    "os.mkdir(new_dir)\n"
   ]
  },
  {
   "cell_type": "markdown",
   "metadata": {},
   "source": [
    "os.rename(src, dst):"
   ]
  },
  {
   "cell_type": "code",
   "execution_count": null,
   "metadata": {},
   "outputs": [],
   "source": [
    "import os\n",
    "old_file = \"Day_5/CSV/50_Startups.txt\"\n",
    "new_file = \"Day_5/CSV/50Startups.txt\"\n",
    "os.rename(old_file, new_file)\n"
   ]
  },
  {
   "cell_type": "markdown",
   "metadata": {},
   "source": [
    "os.listdir(path):"
   ]
  },
  {
   "cell_type": "code",
   "execution_count": null,
   "metadata": {},
   "outputs": [],
   "source": [
    "import os\n",
    "directory = \"/path/to/directory\"\n",
    "files = os.listdir(directory)\n",
    "for file in files:\n",
    "    print(file)\n"
   ]
  },
  {
   "cell_type": "markdown",
   "metadata": {},
   "source": [
    "Environment Variables:\n",
    "\n",
    "    os.environ:"
   ]
  },
  {
   "cell_type": "code",
   "execution_count": null,
   "metadata": {},
   "outputs": [],
   "source": [
    "import os\n",
    "for key, value in os.environ.items():\n",
    "    print(f\"{key}: {value}\")\n"
   ]
  },
  {
   "cell_type": "markdown",
   "metadata": {},
   "source": [
    "os.getenv(varname, default):"
   ]
  },
  {
   "cell_type": "code",
   "execution_count": 41,
   "metadata": {},
   "outputs": [
    {
     "name": "stdout",
     "output_type": "stream",
     "text": [
      "PYTHONPATH: Not found\n"
     ]
    }
   ],
   "source": [
    "import os\n",
    "python_path = os.getenv(\"PYTHONPATH\", \"Not found\")\n",
    "print(f\"PYTHONPATH: {python_path}\")\n"
   ]
  },
  {
   "cell_type": "markdown",
   "metadata": {},
   "source": [
    "Miscellaneous:\n",
    "\n",
    "    os.getcwd():"
   ]
  },
  {
   "cell_type": "code",
   "execution_count": 42,
   "metadata": {},
   "outputs": [
    {
     "name": "stdout",
     "output_type": "stream",
     "text": [
      "c:\\Users\\VIJAY\\OneDrive\\Desktop\\Company Training\\Alpha_Tech_academy\\VemanaCollege_of_engineering_bangalore\\Day_5\\CSV\n"
     ]
    }
   ],
   "source": [
    "import os\n",
    "current_directory = os.getcwd()\n",
    "print(current_directory)"
   ]
  },
  {
   "cell_type": "markdown",
   "metadata": {},
   "source": [
    "os.system(command):"
   ]
  },
  {
   "cell_type": "code",
   "execution_count": 43,
   "metadata": {},
   "outputs": [
    {
     "data": {
      "text/plain": [
       "0"
      ]
     },
     "execution_count": 43,
     "metadata": {},
     "output_type": "execute_result"
    }
   ],
   "source": [
    "import os\n",
    "os.system(\"echo Hello, World!\")\n"
   ]
  },
  {
   "cell_type": "markdown",
   "metadata": {},
   "source": [
    "os.getpid():"
   ]
  },
  {
   "cell_type": "code",
   "execution_count": 44,
   "metadata": {},
   "outputs": [
    {
     "name": "stdout",
     "output_type": "stream",
     "text": [
      "Process ID: 16396\n"
     ]
    }
   ],
   "source": [
    "import os\n",
    "process_id = os.getpid()\n",
    "print(f\"Process ID: {process_id}\")"
   ]
  }
 ],
 "metadata": {
  "kernelspec": {
   "display_name": "venv",
   "language": "python",
   "name": "python3"
  },
  "language_info": {
   "codemirror_mode": {
    "name": "ipython",
    "version": 3
   },
   "file_extension": ".py",
   "mimetype": "text/x-python",
   "name": "python",
   "nbconvert_exporter": "python",
   "pygments_lexer": "ipython3",
   "version": "3.12.0"
  }
 },
 "nbformat": 4,
 "nbformat_minor": 2
}
