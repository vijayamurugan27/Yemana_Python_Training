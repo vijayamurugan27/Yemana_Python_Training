{
 "cells": [
  {
   "cell_type": "code",
   "execution_count": 32,
   "metadata": {},
   "outputs": [
    {
     "name": "stdout",
     "output_type": "stream",
     "text": [
      "Hello world\n"
     ]
    }
   ],
   "source": [
    "print(\"Hello world\")"
   ]
  },
  {
   "cell_type": "markdown",
   "metadata": {},
   "source": [
    "Working with JSON "
   ]
  },
  {
   "cell_type": "markdown",
   "metadata": {},
   "source": [
    "Working with JSON in Python is straightforward, thanks to the built-in json module. This module allows you to easily serialize (convert to JSON) and deserialize (convert from JSON) data structures. Here are the basic operations for working with JSON in Python:"
   ]
  },
  {
   "cell_type": "markdown",
   "metadata": {},
   "source": [
    "Serializing (Converting to JSON):\n",
    "\n",
    "You can use the json.dumps() function to serialize Python objects into a JSON-formatted string."
   ]
  },
  {
   "cell_type": "code",
   "execution_count": 33,
   "metadata": {},
   "outputs": [
    {
     "name": "stdout",
     "output_type": "stream",
     "text": [
      "{\"name\": \"John\", \"age\": 30, \"city\": \"New York\"}\n"
     ]
    }
   ],
   "source": [
    "import json\n",
    "\n",
    "data = {\n",
    "    \"name\": \"John\",\n",
    "    \"age\": 30,\n",
    "    \"city\": \"New York\"\n",
    "}\n",
    "\n",
    "json_data = json.dumps(data)\n",
    "print(json_data)\n"
   ]
  },
  {
   "cell_type": "markdown",
   "metadata": {},
   "source": [
    "You can also use the indent parameter to format the JSON for better readability:"
   ]
  },
  {
   "cell_type": "code",
   "execution_count": 34,
   "metadata": {},
   "outputs": [
    {
     "name": "stdout",
     "output_type": "stream",
     "text": [
      "{\n",
      "  \"name\": \"John\",\n",
      "  \"age\": 30,\n",
      "  \"city\": \"New York\"\n",
      "}\n"
     ]
    }
   ],
   "source": [
    "json_data = json.dumps(data, indent=2)\n",
    "print(json_data)\n"
   ]
  },
  {
   "cell_type": "markdown",
   "metadata": {},
   "source": [
    "Deserializing (Converting from JSON):\n",
    "\n",
    "To convert a JSON string back into a Python data structure, use the json.loads() function:"
   ]
  },
  {
   "cell_type": "code",
   "execution_count": 35,
   "metadata": {},
   "outputs": [
    {
     "name": "stdout",
     "output_type": "stream",
     "text": [
      "{'name': 'John', 'age': 30, 'city': 'New York'}\n"
     ]
    }
   ],
   "source": [
    "json_data = '{\"name\": \"John\", \"age\": 30, \"city\": \"New York\"}'\n",
    "python_data = json.loads(json_data)\n",
    "print(python_data)\n"
   ]
  },
  {
   "cell_type": "markdown",
   "metadata": {},
   "source": [
    "Working with JSON Files:\n",
    "\n",
    "You can also read from and write to JSON files using the json.dump() and json.load() functions. These functions work with file objects.\n",
    "\n",
    "Writing to a JSON File:"
   ]
  },
  {
   "cell_type": "code",
   "execution_count": 36,
   "metadata": {},
   "outputs": [],
   "source": [
    "data = {\n",
    "    \"name\": \"John\",\n",
    "    \"age\": 30,\n",
    "    \"city\": \"New York\"\n",
    "}\n",
    "\n",
    "with open('data.json', 'w') as json_file:\n",
    "    json.dump(data, json_file)\n"
   ]
  },
  {
   "cell_type": "markdown",
   "metadata": {},
   "source": [
    "Reading from a JSON File:"
   ]
  },
  {
   "cell_type": "code",
   "execution_count": 37,
   "metadata": {},
   "outputs": [
    {
     "name": "stdout",
     "output_type": "stream",
     "text": [
      "{'name': 'John', 'age': 30, 'city': 'New York'}\n"
     ]
    }
   ],
   "source": [
    "with open('data.json', 'r') as json_file:\n",
    "    python_data = json.load(json_file)\n",
    "    print(python_data)\n"
   ]
  },
  {
   "cell_type": "markdown",
   "metadata": {},
   "source": [
    "Working with Custom Objects:\n",
    "\n",
    "You can work with custom Python objects by providing custom serialization and deserialization functions using the default and object_hook parameters of json.dump() and json.load().\n",
    "\n",
    "For example, to serialize a custom object, you can define a function to convert it to a dictionary, and then use the default parameter when dumping it to JSON:"
   ]
  },
  {
   "cell_type": "code",
   "execution_count": 38,
   "metadata": {},
   "outputs": [
    {
     "name": "stdout",
     "output_type": "stream",
     "text": [
      "{\"name\": \"John\", \"age\": 30}\n"
     ]
    }
   ],
   "source": [
    "class Person:\n",
    "    def __init__(self, name, age):\n",
    "        self.name = name\n",
    "        self.age = age\n",
    "\n",
    "def person_to_dict(person):\n",
    "    return {\"name\": person.name, \"age\": person.age}\n",
    "\n",
    "john = Person(\"John\", 30)\n",
    "json_data = json.dumps(john, default=person_to_dict)\n",
    "print(json_data)"
   ]
  },
  {
   "cell_type": "markdown",
   "metadata": {},
   "source": [
    "To deserialize the custom object from JSON, you can define a function that reconstructs the object, and then use the object_hook parameter when loading from JSON:"
   ]
  },
  {
   "cell_type": "code",
   "execution_count": 39,
   "metadata": {},
   "outputs": [
    {
     "name": "stdout",
     "output_type": "stream",
     "text": [
      "John\n",
      "30\n"
     ]
    }
   ],
   "source": [
    "# Deserialize the JSON data to a dictionary\n",
    "data_dict = json.loads(json_data)\n",
    "\n",
    "def dict_to_person(data):\n",
    "    return Person(data[\"name\"], data[\"age\"])\n",
    "\n",
    "# Convert the dictionary back to a Person object\n",
    "john = dict_to_person(data_dict)\n",
    "print(john.name)\n",
    "print(john.age)"
   ]
  }
 ],
 "metadata": {
  "kernelspec": {
   "display_name": "venv",
   "language": "python",
   "name": "python3"
  },
  "language_info": {
   "codemirror_mode": {
    "name": "ipython",
    "version": 3
   },
   "file_extension": ".py",
   "mimetype": "text/x-python",
   "name": "python",
   "nbconvert_exporter": "python",
   "pygments_lexer": "ipython3",
   "version": "3.12.0"
  }
 },
 "nbformat": 4,
 "nbformat_minor": 2
}
