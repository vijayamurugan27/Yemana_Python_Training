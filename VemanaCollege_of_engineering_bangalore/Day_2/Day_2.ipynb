{
 "cells": [
  {
   "cell_type": "code",
   "execution_count": 1,
   "metadata": {},
   "outputs": [
    {
     "name": "stdout",
     "output_type": "stream",
     "text": [
      "Hello World\n"
     ]
    }
   ],
   "source": [
    "print(\"Hello World\")"
   ]
  },
  {
   "cell_type": "code",
   "execution_count": 1,
   "metadata": {},
   "outputs": [
    {
     "name": "stdout",
     "output_type": "stream",
     "text": [
      "Hello world\n"
     ]
    }
   ],
   "source": [
    "print(\"Hello world\")"
   ]
  },
  {
   "cell_type": "markdown",
   "metadata": {},
   "source": [
    "#  Today's Topics\n",
    "1) Operators - different types of operators, operator precedence,\n",
    "2) Comments\n",
    "3) Flow control statements\n",
    "4) control statements\n",
    "4) Loops"
   ]
  },
  {
   "cell_type": "markdown",
   "metadata": {},
   "source": [
    "#### Operators\n"
   ]
  },
  {
   "cell_type": "markdown",
   "metadata": {},
   "source": [
    "operators are special symbols or keywords that are used to perform operations on variables and values. Python supports a wide range of operators, and they can be categorized into several types:\n",
    "\n",
    "    Arithmetic Operators:\n",
    "        Addition +\n",
    "        Subtraction -\n",
    "        Multiplication *\n",
    "        Division /\n",
    "        Floor Division // (integer division)\n",
    "        Modulo % (remainder)\n",
    "        Exponentiation **\n",
    "\n",
    "    Comparison Operators:\n",
    "        Equal to ==\n",
    "        Not equal to !=\n",
    "        Less than <\n",
    "        Less than or equal to <=\n",
    "        Greater than >\n",
    "        Greater than or equal to >=\n",
    "\n",
    "    Logical Operators:\n",
    "        Logical AND and\n",
    "        Logical OR or\n",
    "        Logical NOT not\n",
    "\n",
    "    Assignment Operators:\n",
    "        Assignment =\n",
    "        Addition assignment +=\n",
    "        Subtraction assignment -=\n",
    "        Multiplication assignment *=\n",
    "        Division assignment /=\n",
    "        Floor Division assignment //=\n",
    "        Modulo assignment %=\n",
    "        Exponentiation assignment **=\n",
    "\n",
    "    Identity Operators:\n",
    "        Identity equality is\n",
    "        Identity inequality is not\n",
    "\n",
    "    Membership Operators:\n",
    "        Membership in\n",
    "        Non-membership not in\n",
    "\n",
    "    Bitwise Operators:\n",
    "        Bitwise AND &\n",
    "        Bitwise OR |\n",
    "        Bitwise XOR ^\n",
    "        Bitwise NOT ~\n",
    "        Left shift <<\n",
    "        Right shift >>\n",
    "\n",
    "    Unary Operators:\n",
    "        Unary plus + (positive)\n",
    "        Unary minus - (negation)\n",
    "\n",
    "    Ternary Operator:\n",
    "        Conditional expression (ternary operator): x if condition else y\n",
    "\n",
    "These operators are used to perform various operations, such as mathematical calculations, comparisons, logical operations, assignments, and more, in Python. You can use them to manipulate and analyze data, control program flow, and make decisions in your code."
   ]
  },
  {
   "cell_type": "markdown",
   "metadata": {},
   "source": [
    "#  Arithmetic Operators:"
   ]
  },
  {
   "cell_type": "code",
   "execution_count": 2,
   "metadata": {},
   "outputs": [
    {
     "name": "stdout",
     "output_type": "stream",
     "text": [
      "8\n"
     ]
    }
   ],
   "source": [
    "# for addision\n",
    "\n",
    "def addition(a, b):\n",
    "    \"\"\"\n",
    "    This is a simple function for addision Operation using the arithmetic  operator '+'\n",
    "\n",
    "    \"\"\"\n",
    "    return a + b\n",
    "\n",
    "result = addition(5, 3)\n",
    "print(result)  # Output: 8\n",
    "\n"
   ]
  },
  {
   "cell_type": "code",
   "execution_count": 3,
   "metadata": {},
   "outputs": [
    {
     "name": "stdout",
     "output_type": "stream",
     "text": [
      "5\n"
     ]
    }
   ],
   "source": [
    "# for Subtraction\n",
    "\n",
    "def subtraction(a, b):\n",
    "    \"\"\"\n",
    "    This is a simple function for subtration Operation using the arithmetic  operator '+'\n",
    "\n",
    "    \"\"\"\n",
    "    return a - b\n",
    "\n",
    "\n",
    "\n",
    "result = subtraction(8, 3)\n",
    "print(result)  # Output: 5\n"
   ]
  },
  {
   "cell_type": "code",
   "execution_count": 4,
   "metadata": {},
   "outputs": [
    {
     "name": "stdout",
     "output_type": "stream",
     "text": [
      "24\n"
     ]
    }
   ],
   "source": [
    "def multiplication(a, b):\n",
    "    \"\"\"\n",
    "    This is a simple function for Multiplication Operation using the arithmetic  operator '+'\n",
    "\n",
    "    \"\"\"\n",
    "    return a * b\n",
    "\n",
    "result = multiplication(4, 6)\n",
    "print(result)  # Output: 24\n"
   ]
  },
  {
   "cell_type": "code",
   "execution_count": null,
   "metadata": {},
   "outputs": [],
   "source": [
    "def division(a, b):\n",
    "\n",
    "    \"\"\"\n",
    "    This is a simple function for Division Operation using the arithmetic  operator '/'\n",
    "\n",
    "    \"\"\"\n",
    "    if b == 0:\n",
    "        return \"Division by zero is not allowed.\"\n",
    "    return a / b\n",
    "\n",
    "result = division(10, 2)\n",
    "print(result)  # Output: 5.0\n",
    "# you can the integer in converted to float, this is implicit conversion.\n"
   ]
  },
  {
   "cell_type": "code",
   "execution_count": 6,
   "metadata": {},
   "outputs": [
    {
     "name": "stdout",
     "output_type": "stream",
     "text": [
      "3\n"
     ]
    }
   ],
   "source": [
    "def floor_division(a, b):\n",
    "    \"\"\"\n",
    "    This is a simple function for Floor Division (Integer Division): Operation using the arithmetic  operator '//'\n",
    "\n",
    "    \"\"\"\n",
    "\n",
    "    if b == 0:\n",
    "        return \"Division by zero is not allowed.\"\n",
    "    return a // b\n",
    "\n",
    "result = floor_division(10, 3)\n",
    "print(result)  # Output: 3\n"
   ]
  },
  {
   "cell_type": "markdown",
   "metadata": {},
   "source": [
    "Modulo (Remainder):"
   ]
  },
  {
   "cell_type": "code",
   "execution_count": 5,
   "metadata": {},
   "outputs": [
    {
     "name": "stdout",
     "output_type": "stream",
     "text": [
      "1\n"
     ]
    }
   ],
   "source": [
    "def modulo(a, b):\n",
    "    \"\"\"\n",
    "    This is a simple function for Modulo (Remainder): Operation using the arithmetic  operator '%'\n",
    "\n",
    "    \"\"\"\n",
    "    if b == 0:\n",
    "        return \"Modulo by zero is not allowed.\"\n",
    "    return a % b\n",
    "\n",
    "result = modulo(10, 3)\n",
    "print(result)  # Output: 1\n"
   ]
  },
  {
   "cell_type": "markdown",
   "metadata": {},
   "source": [
    "Exponentiation or Power:"
   ]
  },
  {
   "cell_type": "code",
   "execution_count": 7,
   "metadata": {},
   "outputs": [
    {
     "name": "stdout",
     "output_type": "stream",
     "text": [
      "8\n"
     ]
    }
   ],
   "source": [
    "def exponentiation(base, exponent):\n",
    "    \"\"\"\n",
    "    This is a simple function for Exponent or Power: Operation using the arithmetic  operator '**'\n",
    "\n",
    "    \"\"\"\n",
    "    return base ** exponent\n",
    "\n",
    "result = exponentiation(2, 3)\n",
    "print(result)  # Output: 8\n"
   ]
  },
  {
   "cell_type": "markdown",
   "metadata": {},
   "source": [
    "#   Comparision Operators."
   ]
  },
  {
   "cell_type": "markdown",
   "metadata": {},
   "source": [
    "Equal to (==):"
   ]
  },
  {
   "cell_type": "code",
   "execution_count": 11,
   "metadata": {},
   "outputs": [
    {
     "name": "stdout",
     "output_type": "stream",
     "text": [
      "True\n",
      "True\n"
     ]
    }
   ],
   "source": [
    "def equal_to(a, b):\n",
    "    return a == b\n",
    "\n",
    "result = equal_to(5, 5)\n",
    "print(result)  # Output: True\n",
    "\n",
    "result = equal_to(5, 20/4)\n",
    "print(result)"
   ]
  },
  {
   "cell_type": "markdown",
   "metadata": {},
   "source": [
    "Not equal to (!=):"
   ]
  },
  {
   "cell_type": "code",
   "execution_count": 12,
   "metadata": {},
   "outputs": [
    {
     "name": "stdout",
     "output_type": "stream",
     "text": [
      "True\n"
     ]
    }
   ],
   "source": [
    "def not_equal_to(a, b):\n",
    "    return a != b\n",
    "\n",
    "result = not_equal_to(5, 3)\n",
    "print(result)  # Output: True\n"
   ]
  },
  {
   "cell_type": "markdown",
   "metadata": {},
   "source": [
    "Less than (<):"
   ]
  },
  {
   "cell_type": "code",
   "execution_count": 13,
   "metadata": {},
   "outputs": [
    {
     "name": "stdout",
     "output_type": "stream",
     "text": [
      "True\n"
     ]
    }
   ],
   "source": [
    "def less_than(a, b):\n",
    "    return a < b\n",
    "\n",
    "result = less_than(3, 5)\n",
    "print(result)  # Output: True\n"
   ]
  },
  {
   "cell_type": "markdown",
   "metadata": {},
   "source": [
    "Less than or equal to (<=):"
   ]
  },
  {
   "cell_type": "code",
   "execution_count": 14,
   "metadata": {},
   "outputs": [
    {
     "name": "stdout",
     "output_type": "stream",
     "text": [
      "True\n"
     ]
    }
   ],
   "source": [
    "def less_than_or_equal_to(a, b):\n",
    "    return a <= b\n",
    "\n",
    "result = less_than_or_equal_to(5, 5)\n",
    "print(result)  # Output: True\n"
   ]
  },
  {
   "cell_type": "markdown",
   "metadata": {},
   "source": [
    "Greater than (>):"
   ]
  },
  {
   "cell_type": "code",
   "execution_count": 15,
   "metadata": {},
   "outputs": [
    {
     "name": "stdout",
     "output_type": "stream",
     "text": [
      "True\n"
     ]
    }
   ],
   "source": [
    "def greater_than(a, b):\n",
    "    return a > b\n",
    "\n",
    "result = greater_than(5, 3)\n",
    "print(result)  # Output: True\n"
   ]
  },
  {
   "cell_type": "markdown",
   "metadata": {},
   "source": [
    "Greater than or equal to (>=):"
   ]
  },
  {
   "cell_type": "code",
   "execution_count": 16,
   "metadata": {},
   "outputs": [
    {
     "name": "stdout",
     "output_type": "stream",
     "text": [
      "True\n"
     ]
    }
   ],
   "source": [
    "def greater_than_or_equal_to(a, b):\n",
    "    return a >= b\n",
    "\n",
    "result = greater_than_or_equal_to(5, 5)\n",
    "print(result)  # Output: True\n"
   ]
  },
  {
   "cell_type": "markdown",
   "metadata": {},
   "source": [
    "These functions compare two values using the respective comparison operators and return a Boolean result (True or False). You can use these functions to compare different values or variables in your code."
   ]
  },
  {
   "cell_type": "markdown",
   "metadata": {},
   "source": [
    "###  Logical AND (and):"
   ]
  },
  {
   "cell_type": "code",
   "execution_count": 17,
   "metadata": {},
   "outputs": [
    {
     "name": "stdout",
     "output_type": "stream",
     "text": [
      "False\n"
     ]
    }
   ],
   "source": [
    "def logical_and(x, y):\n",
    "    return x and y\n",
    "\n",
    "result = logical_and(True, False)\n",
    "print(result)  # Output: False\n"
   ]
  },
  {
   "cell_type": "markdown",
   "metadata": {},
   "source": [
    "Logical OR (or):"
   ]
  },
  {
   "cell_type": "code",
   "execution_count": 18,
   "metadata": {},
   "outputs": [
    {
     "name": "stdout",
     "output_type": "stream",
     "text": [
      "True\n"
     ]
    }
   ],
   "source": [
    "def logical_or(x, y):\n",
    "    return x or y\n",
    "\n",
    "result = logical_or(True, False)\n",
    "print(result)  # Output: True\n"
   ]
  },
  {
   "cell_type": "markdown",
   "metadata": {},
   "source": [
    "Logical NOT (not):"
   ]
  },
  {
   "cell_type": "code",
   "execution_count": 19,
   "metadata": {},
   "outputs": [
    {
     "name": "stdout",
     "output_type": "stream",
     "text": [
      "False\n"
     ]
    }
   ],
   "source": [
    "def logical_not(x):\n",
    "    return not x\n",
    "\n",
    "result = logical_not(True)\n",
    "print(result)  # Output: False\n"
   ]
  },
  {
   "cell_type": "markdown",
   "metadata": {},
   "source": [
    "These functions perform the respective logical operations and return a Boolean result (True or False). You can use these functions to create more complex logical expressions in your code and evaluate conditions."
   ]
  },
  {
   "cell_type": "markdown",
   "metadata": {},
   "source": [
    "### Assignment Operators:"
   ]
  },
  {
   "cell_type": "markdown",
   "metadata": {},
   "source": [
    "Assignment (=):"
   ]
  },
  {
   "cell_type": "code",
   "execution_count": 20,
   "metadata": {},
   "outputs": [
    {
     "name": "stdout",
     "output_type": "stream",
     "text": [
      "10\n"
     ]
    }
   ],
   "source": [
    "def assignment(a, b):\n",
    "    a = b\n",
    "    return a\n",
    "\n",
    "x = 5\n",
    "y = 10\n",
    "result = assignment(x, y)\n",
    "print(result)  # Output: 10\n"
   ]
  },
  {
   "cell_type": "markdown",
   "metadata": {},
   "source": [
    "Addition Assignment (+=):"
   ]
  },
  {
   "cell_type": "code",
   "execution_count": 21,
   "metadata": {},
   "outputs": [
    {
     "name": "stdout",
     "output_type": "stream",
     "text": [
      "8\n"
     ]
    }
   ],
   "source": [
    "def addition_assignment(a, b):\n",
    "    a += b\n",
    "    return a\n",
    "\n",
    "x = 5\n",
    "y = 3\n",
    "result = addition_assignment(x, y)\n",
    "print(result)  # Output: 8\n"
   ]
  },
  {
   "cell_type": "markdown",
   "metadata": {},
   "source": [
    "Subtraction Assignment (-=):"
   ]
  },
  {
   "cell_type": "code",
   "execution_count": 22,
   "metadata": {},
   "outputs": [
    {
     "name": "stdout",
     "output_type": "stream",
     "text": [
      "7\n"
     ]
    }
   ],
   "source": [
    "def subtraction_assignment(a, b):\n",
    "    a -= b\n",
    "    return a\n",
    "\n",
    "x = 10\n",
    "y = 3\n",
    "result = subtraction_assignment(x, y)\n",
    "print(result)  # Output: 7\n"
   ]
  },
  {
   "cell_type": "markdown",
   "metadata": {},
   "source": [
    "Multiplication Assignment (*=):"
   ]
  },
  {
   "cell_type": "code",
   "execution_count": 23,
   "metadata": {},
   "outputs": [
    {
     "name": "stdout",
     "output_type": "stream",
     "text": [
      "20\n"
     ]
    }
   ],
   "source": [
    "def multiplication_assignment(a, b):\n",
    "    a *= b\n",
    "    return a\n",
    "\n",
    "x = 4\n",
    "y = 5\n",
    "result = multiplication_assignment(x, y)\n",
    "print(result)  # Output: 20\n"
   ]
  },
  {
   "cell_type": "markdown",
   "metadata": {},
   "source": [
    "Division Assignment (/=):"
   ]
  },
  {
   "cell_type": "code",
   "execution_count": 24,
   "metadata": {},
   "outputs": [
    {
     "name": "stdout",
     "output_type": "stream",
     "text": [
      "5.0\n"
     ]
    }
   ],
   "source": [
    "def division_assignment(a, b):\n",
    "    a /= b\n",
    "    return a\n",
    "\n",
    "x = 10\n",
    "y = 2\n",
    "result = division_assignment(x, y)\n",
    "print(result)  # Output: 5.0\n"
   ]
  },
  {
   "cell_type": "markdown",
   "metadata": {},
   "source": [
    "Floor Division Assignment (//=):"
   ]
  },
  {
   "cell_type": "code",
   "execution_count": 25,
   "metadata": {},
   "outputs": [
    {
     "name": "stdout",
     "output_type": "stream",
     "text": [
      "3\n"
     ]
    }
   ],
   "source": [
    "def floor_division_assignment(a, b):\n",
    "    a //= b\n",
    "    return a\n",
    "\n",
    "x = 10\n",
    "y = 3\n",
    "result = floor_division_assignment(x, y)\n",
    "print(result)  # Output: 3\n"
   ]
  },
  {
   "cell_type": "markdown",
   "metadata": {},
   "source": [
    "Modulo Assignment (%=):"
   ]
  },
  {
   "cell_type": "code",
   "execution_count": 26,
   "metadata": {},
   "outputs": [
    {
     "name": "stdout",
     "output_type": "stream",
     "text": [
      "1\n"
     ]
    }
   ],
   "source": [
    "def modulo_assignment(a, b):\n",
    "    a %= b\n",
    "    return a\n",
    "\n",
    "x = 10\n",
    "y = 3\n",
    "result = modulo_assignment(x, y)\n",
    "print(result)  # Output: 1\n"
   ]
  },
  {
   "cell_type": "markdown",
   "metadata": {},
   "source": [
    "Exponentiation Assignment (=)**:"
   ]
  },
  {
   "cell_type": "code",
   "execution_count": 27,
   "metadata": {},
   "outputs": [
    {
     "name": "stdout",
     "output_type": "stream",
     "text": [
      "8\n"
     ]
    }
   ],
   "source": [
    "def exponentiation_assignment(a, b):\n",
    "    a **= b\n",
    "    return a\n",
    "\n",
    "x = 2\n",
    "y = 3\n",
    "result = exponentiation_assignment(x, y)\n",
    "print(result)  # Output: 8\n"
   ]
  },
  {
   "cell_type": "markdown",
   "metadata": {},
   "source": [
    "These functions demonstrate the use of various assignment operators to modify the value of a variable and return the updated value. Assignment operators are used to update variables with the results of various operations."
   ]
  },
  {
   "cell_type": "markdown",
   "metadata": {},
   "source": [
    "### Identity Operators:\n",
    "\n"
   ]
  },
  {
   "cell_type": "markdown",
   "metadata": {},
   "source": [
    "Identity Equality (is):"
   ]
  },
  {
   "cell_type": "code",
   "execution_count": 28,
   "metadata": {},
   "outputs": [
    {
     "name": "stdout",
     "output_type": "stream",
     "text": [
      "False\n"
     ]
    }
   ],
   "source": [
    "def identity_equality(a, b):\n",
    "    return a is b\n",
    "\n",
    "x = [1, 2, 3]\n",
    "y = [1, 2, 3]\n",
    "result = identity_equality(x, y)\n",
    "print(result)  # Output: False\n"
   ]
  },
  {
   "cell_type": "markdown",
   "metadata": {},
   "source": [
    "Identity Inequality (is not):"
   ]
  },
  {
   "cell_type": "code",
   "execution_count": 29,
   "metadata": {},
   "outputs": [
    {
     "name": "stdout",
     "output_type": "stream",
     "text": [
      "True\n"
     ]
    }
   ],
   "source": [
    "def identity_inequality(a, b):\n",
    "    return a is not b\n",
    "\n",
    "x = [1, 2, 3]\n",
    "y = [4, 5, 6]\n",
    "result = identity_inequality(x, y)\n",
    "print(result)  # Output: True\n"
   ]
  },
  {
   "cell_type": "markdown",
   "metadata": {},
   "source": [
    "These functions use the identity operators to compare two objects (in this case, lists) and return True or False based on whether the objects have the same identity (for is) or different identities (for is not). The identity operators are used to check if two objects are the same object in memory.\n"
   ]
  },
  {
   "cell_type": "markdown",
   "metadata": {},
   "source": [
    "Here are functions for the membership operators in and not in in Python:"
   ]
  },
  {
   "cell_type": "markdown",
   "metadata": {},
   "source": [
    "Membership Operator (in):"
   ]
  },
  {
   "cell_type": "code",
   "execution_count": 30,
   "metadata": {},
   "outputs": [
    {
     "name": "stdout",
     "output_type": "stream",
     "text": [
      "True\n"
     ]
    }
   ],
   "source": [
    "def membership_operator(a, sequence):\n",
    "    return a in sequence\n",
    "\n",
    "element = 3\n",
    "my_list = [1, 2, 3, 4, 5]\n",
    "result = membership_operator(element, my_list)\n",
    "print(result)  # Output: True\n"
   ]
  },
  {
   "cell_type": "markdown",
   "metadata": {},
   "source": [
    "Non-Membership Operator (not in):"
   ]
  },
  {
   "cell_type": "code",
   "execution_count": 31,
   "metadata": {},
   "outputs": [
    {
     "name": "stdout",
     "output_type": "stream",
     "text": [
      "True\n"
     ]
    }
   ],
   "source": [
    "def non_membership_operator(a, sequence):\n",
    "    return a not in sequence\n",
    "\n",
    "element = 6\n",
    "my_list = [1, 2, 3, 4, 5]\n",
    "result = non_membership_operator(element, my_list)\n",
    "print(result)  # Output: True\n"
   ]
  },
  {
   "cell_type": "markdown",
   "metadata": {},
   "source": [
    "These functions use the membership operators to check if an element (a) is a member of a sequence (e.g., a list). The in operator returns True if the element is in the sequence, while the not in operator returns True if the element is not in the sequence."
   ]
  },
  {
   "cell_type": "markdown",
   "metadata": {},
   "source": [
    "### Bitwise Operator:"
   ]
  },
  {
   "cell_type": "markdown",
   "metadata": {},
   "source": [
    "Bitwise AND (&):"
   ]
  },
  {
   "cell_type": "code",
   "execution_count": 32,
   "metadata": {},
   "outputs": [
    {
     "name": "stdout",
     "output_type": "stream",
     "text": [
      "1\n"
     ]
    }
   ],
   "source": [
    "def bitwise_and(a, b):\n",
    "    return a & b\n",
    "\n",
    "x = 5\n",
    "y = 3\n",
    "result = bitwise_and(x, y)\n",
    "print(result)  # Output: 1\n"
   ]
  },
  {
   "cell_type": "markdown",
   "metadata": {},
   "source": [
    "Bitwise OR (|):"
   ]
  },
  {
   "cell_type": "code",
   "execution_count": 33,
   "metadata": {},
   "outputs": [
    {
     "name": "stdout",
     "output_type": "stream",
     "text": [
      "7\n"
     ]
    }
   ],
   "source": [
    "def bitwise_or(a, b):\n",
    "    return a | b\n",
    "\n",
    "x = 5\n",
    "y = 3\n",
    "result = bitwise_or(x, y)\n",
    "print(result)  # Output: 7\n"
   ]
  },
  {
   "cell_type": "markdown",
   "metadata": {},
   "source": [
    "Bitwise XOR (^):"
   ]
  },
  {
   "cell_type": "code",
   "execution_count": 34,
   "metadata": {},
   "outputs": [
    {
     "name": "stdout",
     "output_type": "stream",
     "text": [
      "6\n"
     ]
    }
   ],
   "source": [
    "def bitwise_xor(a, b):\n",
    "    return a ^ b\n",
    "\n",
    "x = 5\n",
    "y = 3\n",
    "result = bitwise_xor(x, y)\n",
    "print(result)  # Output: 6\n"
   ]
  },
  {
   "cell_type": "markdown",
   "metadata": {},
   "source": [
    "Bitwise NOT (~):"
   ]
  },
  {
   "cell_type": "code",
   "execution_count": 35,
   "metadata": {},
   "outputs": [
    {
     "name": "stdout",
     "output_type": "stream",
     "text": [
      "-6\n"
     ]
    }
   ],
   "source": [
    "def bitwise_not(a):\n",
    "    return ~a\n",
    "\n",
    "x = 5\n",
    "result = bitwise_not(x)\n",
    "print(result)  # Output: -6\n"
   ]
  },
  {
   "cell_type": "markdown",
   "metadata": {},
   "source": [
    "Left Shift (<<): multiply by 2 , n times"
   ]
  },
  {
   "cell_type": "code",
   "execution_count": 36,
   "metadata": {},
   "outputs": [
    {
     "name": "stdout",
     "output_type": "stream",
     "text": [
      "20\n"
     ]
    }
   ],
   "source": [
    "def left_shift(a, n):\n",
    "    return a << n\n",
    "\n",
    "x = 5\n",
    "n = 2\n",
    "result = left_shift(x, n)\n",
    "print(result)  # Output: 20\n"
   ]
  },
  {
   "cell_type": "markdown",
   "metadata": {},
   "source": [
    "Right Shift (>>): divide by 2, n times."
   ]
  },
  {
   "cell_type": "code",
   "execution_count": 37,
   "metadata": {},
   "outputs": [
    {
     "name": "stdout",
     "output_type": "stream",
     "text": [
      "5\n"
     ]
    }
   ],
   "source": [
    "def right_shift(a, n):\n",
    "    return a >> n\n",
    "\n",
    "x = 20\n",
    "n = 2\n",
    "result = right_shift(x, n)\n",
    "print(result)  # Output: 5\n"
   ]
  },
  {
   "cell_type": "markdown",
   "metadata": {},
   "source": [
    "These functions demonstrate the use of various bitwise operators in Python to perform bitwise operations on integer values. Bitwise operators manipulate the binary representations of integers, making them useful in certain low-level operations and optimizations."
   ]
  },
  {
   "cell_type": "markdown",
   "metadata": {},
   "source": [
    "### unary Operators:"
   ]
  },
  {
   "cell_type": "markdown",
   "metadata": {},
   "source": [
    "Unary operators in Python are used to perform operations on a single operand (a single value or variable). They allow you to manipulate or transform the value of the operand in various ways. Here are the two main unary operators in Python and their common uses:\n",
    "\n",
    "    Unary Plus (+):\n",
    "        The unary plus operator is used to indicate a positive number, but it generally doesn't change the sign of the operand. Its primary use is for clarity and consistency in mathematical expressions.\n",
    "        Common use:\n",
    "            +x is essentially the same as x.\n",
    "            Useful for explicitly showing that a number is positive in mathematical expressions.\n",
    "    Unary Minus (-):\n",
    "        The unary minus operator is used to negate the value of the operand, changing its sign from positive to negative or vice versa.\n",
    "        Common uses:\n",
    "            -x changes a positive number to a negative number and vice versa.\n",
    "            It's used for subtraction (e.g., -5 to subtract 5 from another number).\n",
    "            In mathematical expressions, it indicates the negative value of the operand.\n",
    "            It can be used for various transformations, such as inverting values."
   ]
  },
  {
   "cell_type": "code",
   "execution_count": 38,
   "metadata": {},
   "outputs": [
    {
     "name": "stdout",
     "output_type": "stream",
     "text": [
      "x: 5\n",
      "Positive x: 5\n",
      "Negative x: -5\n"
     ]
    }
   ],
   "source": [
    "x = 5\n",
    "positive_x = +x\n",
    "negative_x = -x\n",
    "\n",
    "print(\"x:\", x)\n",
    "print(\"Positive x:\", positive_x)\n",
    "print(\"Negative x:\", negative_x)\n"
   ]
  },
  {
   "cell_type": "markdown",
   "metadata": {},
   "source": [
    "### Terenary Operator:"
   ]
  },
  {
   "cell_type": "markdown",
   "metadata": {},
   "source": [
    "The ternary operator, also known as the conditional expression in Python, allows you to assign a value to a variable based on a condition. Here's a function that demonstrates the use of the ternary operator:"
   ]
  },
  {
   "cell_type": "markdown",
   "metadata": {},
   "source": [
    "### Terenary Operator Syntax:\n",
    "\n",
    "x if condition else y\n"
   ]
  },
  {
   "cell_type": "code",
   "execution_count": 39,
   "metadata": {},
   "outputs": [
    {
     "name": "stdout",
     "output_type": "stream",
     "text": [
      "This is true\n",
      "This is false\n"
     ]
    }
   ],
   "source": [
    "def ternary_operator_example(condition, x, y):\n",
    "    return x if condition else y\n",
    "\n",
    "result = ternary_operator_example(True, \"This is true\", \"This is false\")\n",
    "print(result)  # Output: \"This is true\"\n",
    "\n",
    "result = ternary_operator_example(False, \"This is true\", \"This is false\")\n",
    "print(result)  # Output: \"This is false\"\n"
   ]
  },
  {
   "cell_type": "markdown",
   "metadata": {},
   "source": [
    "#  Flow  comntrol statements:"
   ]
  },
  {
   "cell_type": "markdown",
   "metadata": {},
   "source": [
    "Conditional Statements (if, elif, else):\n",
    "\n",
    "Conditional statements allow you to execute different code blocks based on the evaluation of a condition."
   ]
  },
  {
   "cell_type": "code",
   "execution_count": 1,
   "metadata": {},
   "outputs": [
    {
     "name": "stdout",
     "output_type": "stream",
     "text": [
      "x is greater than 5\n"
     ]
    }
   ],
   "source": [
    "x = 10\n",
    "if x > 5:\n",
    "    print(\"x is greater than 5\")\n",
    "elif x == 5:\n",
    "    print(\"x is equal to 5\")\n",
    "else:\n",
    "    print(\"x is less than 5\")\n"
   ]
  },
  {
   "cell_type": "markdown",
   "metadata": {},
   "source": [
    "if Statement:\n",
    "\n",
    "The if statement is used to execute a block of code if a condition is True."
   ]
  },
  {
   "cell_type": "code",
   "execution_count": 8,
   "metadata": {},
   "outputs": [
    {
     "name": "stdout",
     "output_type": "stream",
     "text": [
      "x is greater than 5\n"
     ]
    }
   ],
   "source": [
    "x = 10\n",
    "if x > 5:\n",
    "    print(\"x is greater than 5\")\n"
   ]
  },
  {
   "cell_type": "markdown",
   "metadata": {},
   "source": [
    "if-else Statement:\n",
    "\n",
    "The if-else statement allows you to execute one block of code if a condition is True and another block if the condition is False."
   ]
  },
  {
   "cell_type": "code",
   "execution_count": 9,
   "metadata": {},
   "outputs": [
    {
     "name": "stdout",
     "output_type": "stream",
     "text": [
      "You are an adult.\n"
     ]
    }
   ],
   "source": [
    "age = 18\n",
    "if age >= 18:\n",
    "    print(\"You are an adult.\")\n",
    "else:\n",
    "    print(\"You are not an adult.\")\n"
   ]
  },
  {
   "cell_type": "markdown",
   "metadata": {},
   "source": [
    "if-elif-else Statement:\n",
    "\n",
    "The if-elif-else statement allows you to test multiple conditions in sequence and execute the first block of code where the condition is True. If none of the conditions are met, the else block is executed."
   ]
  },
  {
   "cell_type": "code",
   "execution_count": 10,
   "metadata": {},
   "outputs": [
    {
     "name": "stdout",
     "output_type": "stream",
     "text": [
      "Number is positive.\n"
     ]
    }
   ],
   "source": [
    "num = 7\n",
    "if num < 0:\n",
    "    print(\"Number is negative.\")\n",
    "elif num == 0:\n",
    "    print(\"Number is zero.\")\n",
    "else:\n",
    "    print(\"Number is positive.\")\n"
   ]
  },
  {
   "cell_type": "markdown",
   "metadata": {},
   "source": [
    "Nested if Statements:\n",
    "\n",
    "You can also nest if statements within other if statements to create more complex conditional logic."
   ]
  },
  {
   "cell_type": "code",
   "execution_count": 11,
   "metadata": {},
   "outputs": [
    {
     "name": "stdout",
     "output_type": "stream",
     "text": [
      "You are an adult and can drink.\n"
     ]
    }
   ],
   "source": [
    "age = 25\n",
    "if age >= 18:\n",
    "    if age < 21:\n",
    "        print(\"You are an adult but not allowed to drink.\")\n",
    "    else:\n",
    "        print(\"You are an adult and can drink.\")\n",
    "else:\n",
    "    print(\"You are not an adult.\")\n"
   ]
  },
  {
   "cell_type": "markdown",
   "metadata": {},
   "source": [
    "### Difference between Elif and NEstedif statements:\n"
   ]
  },
  {
   "cell_type": "markdown",
   "metadata": {},
   "source": [
    "Nested if Statements:\n",
    "\n",
    "    Nested if statements are used to create more complex and specific conditional logic.\n",
    "    They allow you to test multiple conditions in a hierarchical manner, where each inner if statement is dependent on the condition of an outer if statement.\n",
    "    All conditions within nested if statements are evaluated, and multiple blocks of code can be executed.\n",
    "    You have more flexibility in handling complex branching logic based on multiple conditions."
   ]
  },
  {
   "cell_type": "code",
   "execution_count": 12,
   "metadata": {},
   "outputs": [
    {
     "name": "stdout",
     "output_type": "stream",
     "text": [
      "x is between 5 and 15\n"
     ]
    }
   ],
   "source": [
    "x = 10\n",
    "if x > 5:\n",
    "    if x < 15:\n",
    "        print(\"x is between 5 and 15\")\n"
   ]
  },
  {
   "cell_type": "markdown",
   "metadata": {},
   "source": [
    "elif Statements:\n",
    "\n",
    "    elif (short for \"else if\") statements are used to test multiple conditions in a sequential and mutually exclusive manner.\n",
    "    When an elif condition is met, the evaluation of conditions stops, and the corresponding block of code is executed. If none of the elif conditions are met, the else block (if present) is executed.\n",
    "    elif statements are typically used when you have a set of conditions that are mutually exclusive, and you want to execute code based on the first condition that is True."
   ]
  },
  {
   "cell_type": "code",
   "execution_count": 13,
   "metadata": {},
   "outputs": [
    {
     "name": "stdout",
     "output_type": "stream",
     "text": [
      "Number is positive.\n"
     ]
    }
   ],
   "source": [
    "num = 7\n",
    "if num < 0:\n",
    "    print(\"Number is negative.\")\n",
    "elif num == 0:\n",
    "    print(\"Number is zero.\")\n",
    "else:\n",
    "    print(\"Number is positive.\")\n"
   ]
  },
  {
   "cell_type": "markdown",
   "metadata": {},
   "source": [
    "### Note :(nested if statements are used when you need to handle complex, non-exclusive conditions that may overlap, and you want to execute multiple blocks of code based on the evaluation of those conditions. elif statements, on the other hand, are used for handling mutually exclusive conditions sequentially, executing the first block of code corresponding to the condition that is True. The choice between them depends on the specific logic and requirements of your program.)"
   ]
  },
  {
   "cell_type": "markdown",
   "metadata": {},
   "source": [
    "###  Loops:"
   ]
  },
  {
   "cell_type": "markdown",
   "metadata": {},
   "source": [
    "# For Loops"
   ]
  },
  {
   "cell_type": "code",
   "execution_count": 2,
   "metadata": {},
   "outputs": [
    {
     "name": "stdout",
     "output_type": "stream",
     "text": [
      "0\n",
      "1\n",
      "2\n",
      "3\n",
      "4\n"
     ]
    }
   ],
   "source": [
    "for i in range(5):\n",
    "    print(i)  # Prints numbers from 0 to 4\n"
   ]
  },
  {
   "cell_type": "code",
   "execution_count": 3,
   "metadata": {},
   "outputs": [
    {
     "name": "stdout",
     "output_type": "stream",
     "text": [
      "1\n",
      "2\n",
      "23\n",
      "34\n",
      "45\n",
      "1\n",
      "2\n",
      "3\n",
      "432\n",
      "12\n"
     ]
    }
   ],
   "source": [
    "a = [1,2,23,34,45,1,2,3,432,12]\n",
    "\n",
    "for i in a:\n",
    "    print(i)"
   ]
  },
  {
   "cell_type": "markdown",
   "metadata": {},
   "source": [
    "### while Loop:\n",
    "\n"
   ]
  },
  {
   "cell_type": "code",
   "execution_count": 4,
   "metadata": {},
   "outputs": [
    {
     "name": "stdout",
     "output_type": "stream",
     "text": [
      "0\n",
      "1\n",
      "2\n",
      "3\n",
      "4\n"
     ]
    }
   ],
   "source": [
    "count = 0\n",
    "while count < 5:\n",
    "    print(count)  # Prints numbers from 0 to 4\n",
    "    count += 1\n"
   ]
  },
  {
   "cell_type": "markdown",
   "metadata": {},
   "source": [
    "Break and Continue Statements:"
   ]
  },
  {
   "cell_type": "markdown",
   "metadata": {},
   "source": [
    "break: It's used to exit a loop prematurely."
   ]
  },
  {
   "cell_type": "code",
   "execution_count": 5,
   "metadata": {},
   "outputs": [
    {
     "name": "stdout",
     "output_type": "stream",
     "text": [
      "0\n",
      "1\n",
      "2\n",
      "3\n",
      "4\n"
     ]
    }
   ],
   "source": [
    "for i in range(10):\n",
    "    if i == 5:\n",
    "        break  # Exits the loop when i is 5\n",
    "    print(i)\n"
   ]
  },
  {
   "cell_type": "markdown",
   "metadata": {},
   "source": [
    "continue: It's used to skip the rest of the current iteration and continue to the next iteration of the loop."
   ]
  },
  {
   "cell_type": "code",
   "execution_count": 6,
   "metadata": {},
   "outputs": [
    {
     "name": "stdout",
     "output_type": "stream",
     "text": [
      "0\n",
      "1\n",
      "3\n",
      "4\n"
     ]
    }
   ],
   "source": [
    "for i in range(5):\n",
    "    if i == 2:\n",
    "        continue  # Skips the value 2 and continues to the next iteration\n",
    "    print(i)\n"
   ]
  },
  {
   "cell_type": "markdown",
   "metadata": {},
   "source": [
    "Pass Statement:\n",
    "\n",
    "The pass statement is a placeholder that does nothing. It's often used as a placeholder in code blocks that need to be implemented in the future."
   ]
  },
  {
   "cell_type": "code",
   "execution_count": 7,
   "metadata": {},
   "outputs": [],
   "source": [
    "def some_function():\n",
    "    pass  # Implement the function later\n"
   ]
  },
  {
   "cell_type": "markdown",
   "metadata": {},
   "source": [
    "### Assert statement:\n",
    "\n",
    "the assert statement is used as a debugging aid that tests a condition as an expression and triggers an exception if the condition is not True. It is often used to ensure that certain conditions or assumptions about the code are met during development and testing. If the condition provided to assert is False, it raises an AssertionError exception."
   ]
  },
  {
   "cell_type": "markdown",
   "metadata": {},
   "source": [
    "# Syntax :  assert expression\n",
    "\n",
    "expression is the condition that you want to test. If this condition is False, the AssertionError exception is raised.\n"
   ]
  },
  {
   "cell_type": "code",
   "execution_count": 14,
   "metadata": {},
   "outputs": [
    {
     "name": "stdout",
     "output_type": "stream",
     "text": [
      "5.0\n"
     ]
    },
    {
     "ename": "AssertionError",
     "evalue": "Division by zero is not allowed",
     "output_type": "error",
     "traceback": [
      "\u001b[1;31m---------------------------------------------------------------------------\u001b[0m",
      "\u001b[1;31mAssertionError\u001b[0m                            Traceback (most recent call last)",
      "\u001b[1;32mc:\\Users\\VIJAY\\OneDrive\\Desktop\\Company Training\\Alpha_Tech_academy\\VemanaCollege_of_engineering_bangalore\\Day_2\\Day_2.ipynb Cell 120\u001b[0m line \u001b[0;36m8\n\u001b[0;32m      <a href='vscode-notebook-cell:/c%3A/Users/VIJAY/OneDrive/Desktop/Company%20Training/Alpha_Tech_academy/VemanaCollege_of_engineering_bangalore/Day_2/Day_2.ipynb#Y226sZmlsZQ%3D%3D?line=4'>5</a>\u001b[0m result \u001b[39m=\u001b[39m divide(\u001b[39m10\u001b[39m, \u001b[39m2\u001b[39m)\n\u001b[0;32m      <a href='vscode-notebook-cell:/c%3A/Users/VIJAY/OneDrive/Desktop/Company%20Training/Alpha_Tech_academy/VemanaCollege_of_engineering_bangalore/Day_2/Day_2.ipynb#Y226sZmlsZQ%3D%3D?line=5'>6</a>\u001b[0m \u001b[39mprint\u001b[39m(result)  \u001b[39m# Prints 5.0\u001b[39;00m\n\u001b[1;32m----> <a href='vscode-notebook-cell:/c%3A/Users/VIJAY/OneDrive/Desktop/Company%20Training/Alpha_Tech_academy/VemanaCollege_of_engineering_bangalore/Day_2/Day_2.ipynb#Y226sZmlsZQ%3D%3D?line=7'>8</a>\u001b[0m result \u001b[39m=\u001b[39m divide(\u001b[39m10\u001b[39;49m, \u001b[39m0\u001b[39;49m)  \u001b[39m# This will raise an AssertionError\u001b[39;00m\n",
      "\u001b[1;32mc:\\Users\\VIJAY\\OneDrive\\Desktop\\Company Training\\Alpha_Tech_academy\\VemanaCollege_of_engineering_bangalore\\Day_2\\Day_2.ipynb Cell 120\u001b[0m line \u001b[0;36m2\n\u001b[0;32m      <a href='vscode-notebook-cell:/c%3A/Users/VIJAY/OneDrive/Desktop/Company%20Training/Alpha_Tech_academy/VemanaCollege_of_engineering_bangalore/Day_2/Day_2.ipynb#Y226sZmlsZQ%3D%3D?line=0'>1</a>\u001b[0m \u001b[39mdef\u001b[39;00m \u001b[39mdivide\u001b[39m(a, b):\n\u001b[1;32m----> <a href='vscode-notebook-cell:/c%3A/Users/VIJAY/OneDrive/Desktop/Company%20Training/Alpha_Tech_academy/VemanaCollege_of_engineering_bangalore/Day_2/Day_2.ipynb#Y226sZmlsZQ%3D%3D?line=1'>2</a>\u001b[0m     \u001b[39massert\u001b[39;00m b \u001b[39m!=\u001b[39m \u001b[39m0\u001b[39m, \u001b[39m\"\u001b[39m\u001b[39mDivision by zero is not allowed\u001b[39m\u001b[39m\"\u001b[39m\n\u001b[0;32m      <a href='vscode-notebook-cell:/c%3A/Users/VIJAY/OneDrive/Desktop/Company%20Training/Alpha_Tech_academy/VemanaCollege_of_engineering_bangalore/Day_2/Day_2.ipynb#Y226sZmlsZQ%3D%3D?line=2'>3</a>\u001b[0m     \u001b[39mreturn\u001b[39;00m a \u001b[39m/\u001b[39m b\n",
      "\u001b[1;31mAssertionError\u001b[0m: Division by zero is not allowed"
     ]
    }
   ],
   "source": [
    "def divide(a, b):\n",
    "    assert b != 0, \"Division by zero is not allowed\"\n",
    "    return a / b\n",
    "\n",
    "result = divide(10, 2)\n",
    "print(result)  # Prints 5.0\n",
    "\n",
    "# result = divide(10, 0)  # This will raise an AssertionError\n"
   ]
  },
  {
   "cell_type": "markdown",
   "metadata": {},
   "source": [
    "In this example, the assert statement is used to check whether b is not equal to zero before performing the division. If b is zero, the AssertionError with the specified error message is raised.\n",
    "\n",
    "It's important to note that the assert statement is primarily used for debugging and should not be relied upon for handling runtime errors in production code. You can enable or disable assertions globally using the -O (optimize) command line switch when running your Python code. In optimized mode, assertions are effectively ignored, so they don't introduce any runtime overhead in production.\n"
   ]
  },
  {
   "cell_type": "markdown",
   "metadata": {},
   "source": [
    "### List Comprehension."
   ]
  },
  {
   "cell_type": "markdown",
   "metadata": {},
   "source": [
    "List comprehensions are a concise and elegant way to create lists in Python. They allow you to generate a new list by applying an expression to each item in an iterable (e.g., a list, tuple, or range) or by filtering elements from an iterable based on a condition. List comprehensions can simplify your code and make it more readable."
   ]
  },
  {
   "cell_type": "markdown",
   "metadata": {},
   "source": [
    "#   Syntax: new_list = [expression for item in iterable if condition]\n",
    "\n",
    "\n",
    "    expression is the operation to perform on each item.\n",
    "    item is a variable that takes the value of each element in the iterable.\n",
    "    iterable is the collection you are iterating over.\n",
    "    condition (optional) is used to filter elements from the iterable. If specified, the item is included in the new list only if the condition evaluates to True."
   ]
  },
  {
   "cell_type": "markdown",
   "metadata": {},
   "source": []
  },
  {
   "cell_type": "code",
   "execution_count": 16,
   "metadata": {},
   "outputs": [
    {
     "data": {
      "text/plain": [
       "[1, 4, 9, 16, 25]"
      ]
     },
     "execution_count": 16,
     "metadata": {},
     "output_type": "execute_result"
    }
   ],
   "source": [
    "# Create a List of Squares:\n",
    "numbers = [1, 2, 3, 4, 5]\n",
    "squares = [x**2 for x in numbers]\n",
    "# squares will be [1, 4, 9, 16, 25]\n",
    "squares\n",
    "\n"
   ]
  },
  {
   "cell_type": "code",
   "execution_count": 17,
   "metadata": {},
   "outputs": [
    {
     "data": {
      "text/plain": [
       "[2, 4]"
      ]
     },
     "execution_count": 17,
     "metadata": {},
     "output_type": "execute_result"
    }
   ],
   "source": [
    "# Filtering with a Condition:\n",
    "numbers = [1, 2, 3, 4, 5]\n",
    "even_numbers = [x for x in numbers if x % 2 == 0]\n",
    "# even_numbers will be [2, 4]\n",
    "even_numbers"
   ]
  },
  {
   "cell_type": "code",
   "execution_count": 18,
   "metadata": {},
   "outputs": [
    {
     "data": {
      "text/plain": [
       "['BANANA', 'CHERRY']"
      ]
     },
     "execution_count": 18,
     "metadata": {},
     "output_type": "execute_result"
    }
   ],
   "source": [
    "# Create a List of Strings with a Condition:\n",
    "\n",
    "words = [\"apple\", \"banana\", \"cherry\", \"date\"]\n",
    "long_words = [word.upper() for word in words if len(word) > 5]\n",
    "# long_words will be [\"BANANA\", \"CHERRY\"]\n",
    "long_words"
   ]
  },
  {
   "cell_type": "code",
   "execution_count": 20,
   "metadata": {},
   "outputs": [
    {
     "data": {
      "text/plain": [
       "[1, 2, 3, 4, 5, 6, 7, 8, 9]"
      ]
     },
     "execution_count": 20,
     "metadata": {},
     "output_type": "execute_result"
    }
   ],
   "source": [
    "# Nested List Comprehension:\n",
    "\n",
    "# You can also use nested list comprehensions to create a list of lists or perform more complex operations.\n",
    "\n",
    "matrix = [[1, 2, 3], [4, 5, 6], [7, 8, 9]]\n",
    "flattened = [val for row in matrix for val in row]\n",
    "# flattened will be [1, 2, 3, 4, 5, 6, 7, 8, 9]\n",
    "flattened\n"
   ]
  },
  {
   "cell_type": "markdown",
   "metadata": {},
   "source": [
    "List comprehensions are a powerful tool for simplifying code and can make your Python programs more concise and readable. However, they should be used judiciously to maintain code clarity and readability."
   ]
  },
  {
   "cell_type": "markdown",
   "metadata": {},
   "source": [
    "# Srings and string methods:\n",
    "\n",
    "a string is a sequence of characters enclosed within single, double, or triple quotes. Strings are used to represent text data and are a fundamental data type in the language. Here are some key aspects of working with strings in Python:"
   ]
  },
  {
   "cell_type": "markdown",
   "metadata": {},
   "source": [
    "### Creating Strings:\n",
    "\n",
    "You can create strings in various ways:"
   ]
  },
  {
   "cell_type": "code",
   "execution_count": 23,
   "metadata": {},
   "outputs": [
    {
     "name": "stdout",
     "output_type": "stream",
     "text": [
      "This is a single-quoted string.\n",
      "This is a double-quoted string.\n",
      "This is a triple-quoted string.\n"
     ]
    }
   ],
   "source": [
    "single_quoted_string = 'This is a single-quoted string.'\n",
    "double_quoted_string = \"This is a double-quoted string.\"\n",
    "triple_quoted_string = '''This is a triple-quoted string.'''\n",
    "\n",
    "\n",
    "print(single_quoted_string)\n",
    "print(double_quoted_string)\n",
    "print(triple_quoted_string)\n"
   ]
  },
  {
   "cell_type": "code",
   "execution_count": 25,
   "metadata": {},
   "outputs": [
    {
     "data": {
      "text/plain": [
       "'John Doe'"
      ]
     },
     "execution_count": 25,
     "metadata": {},
     "output_type": "execute_result"
    }
   ],
   "source": [
    "# String Concatenation:\n",
    "\n",
    "# You can concatenate strings using the + operator:\n",
    "\n",
    "first_name = \"John\"\n",
    "last_name = \"Doe\"\n",
    "full_name = first_name + \" \" + last_name\n",
    "full_name"
   ]
  },
  {
   "cell_type": "markdown",
   "metadata": {},
   "source": [
    "#   String Methods:\n",
    "\n",
    " Python provides numerous methods for working with strings, such as len(), upper(), lower(), strip(), split(), join(), and many more."
   ]
  },
  {
   "cell_type": "code",
   "execution_count": 30,
   "metadata": {},
   "outputs": [
    {
     "name": "stdout",
     "output_type": "stream",
     "text": [
      "   Hello, World!    19    HELLO, WORLD!       hello, world!    Hello, World! ['   Hello', 'World!   ']\n"
     ]
    }
   ],
   "source": [
    "text = \"   Hello, World!   \"\n",
    "length = len(text)\n",
    "upper_text = text.upper()\n",
    "lower_text = text.lower()\n",
    "stripped_text = text.strip()\n",
    "words = text.split(\", \")  # Splits the string into a list of words\n",
    "\n",
    "print(text, length, upper_text, lower_text, stripped_text, words)\n"
   ]
  },
  {
   "cell_type": "markdown",
   "metadata": {},
   "source": [
    "### String Indexing and Slicing:\n",
    "\n",
    "###  You can access individual characters in a string using indexing and extract substrings using slicing.  "
   ]
  },
  {
   "cell_type": "code",
   "execution_count": 68,
   "metadata": {},
   "outputs": [
    {
     "name": "stdout",
     "output_type": "stream",
     "text": [
      "13\n",
      "H \n",
      "\n",
      " World\n",
      "substring1 : Wrd\n",
      "reverse_string : !dlroW ,olleH \n",
      "\n",
      "\n",
      "reverse_string12 : !dlroW ,olle\n",
      "rev : !r l\n",
      "orld!\n",
      "orl\n"
     ]
    }
   ],
   "source": [
    "text = \"Hello, World!\"\n",
    "print(len(text))\n",
    "first_char = text[0]  # Access the first character 'H'\n",
    "substring = text[7:12]  # Extract 'World'\n",
    "substring1 = text[7:12:2]\n",
    "reverse_string = text[::-1]\n",
    "reverse_string12 = text[:-13:-1]\n",
    "rev = text[:-13:-3]\n",
    "\n",
    "\n",
    "print(first_char,'\\n\\n',substring)\n",
    "print(\"substring1 :\",substring1)\n",
    "print(\"reverse_string :\",reverse_string, '\\n\\n')\n",
    "print(\"reverse_string12 :\",reverse_string12)\n",
    "print(\"rev :\" , rev)\n",
    "\n",
    "\n",
    "# Splice the string from the 3rd character from the end to the end\n",
    "spliced_text = text[-5:]\n",
    "print(spliced_text)  # Output: \"orld!\"\n",
    "\n",
    "# Splice the string from the 5th character from the end to the 2nd character from the end\n",
    "spliced_text = text[-5:-2]\n",
    "print(spliced_text)  # Output: \"o, \"\n"
   ]
  },
  {
   "cell_type": "markdown",
   "metadata": {},
   "source": [
    "### String Formatting:\n",
    "\n",
    "### Python provides several ways to format strings, including f-strings, the .format() method, and the % operator."
   ]
  },
  {
   "cell_type": "code",
   "execution_count": 36,
   "metadata": {},
   "outputs": [
    {
     "data": {
      "text/plain": [
       "'My name is Kavin and I am 20 years old.'"
      ]
     },
     "execution_count": 36,
     "metadata": {},
     "output_type": "execute_result"
    }
   ],
   "source": [
    "name = \"Kavin\"\n",
    "age = 20\n",
    "formatted_string = f\"My name is {name} and I am {age} years old.\"\n",
    "formatted_string"
   ]
  },
  {
   "cell_type": "markdown",
   "metadata": {},
   "source": [
    "### Escaping Characters:\n",
    "\n",
    "### To include special characters in a string, you can use escape sequences, such as \\\" for double quotes or \\\\ for a single backslash."
   ]
  },
  {
   "cell_type": "code",
   "execution_count": 38,
   "metadata": {},
   "outputs": [
    {
     "data": {
      "text/plain": [
       "'This is a \"special\" string.'"
      ]
     },
     "execution_count": 38,
     "metadata": {},
     "output_type": "execute_result"
    }
   ],
   "source": [
    "special_string = \"This is a \\\"special\\\" string.\"\n",
    "special_string"
   ]
  },
  {
   "cell_type": "markdown",
   "metadata": {},
   "source": [
    "### Immutable Nature:\n",
    "\n",
    "Strings in Python are immutable, meaning you cannot modify individual characters of a string. If you need to make changes, you'll create a new string."
   ]
  },
  {
   "cell_type": "code",
   "execution_count": 40,
   "metadata": {},
   "outputs": [
    {
     "data": {
      "text/plain": [
       "'Hello World'"
      ]
     },
     "execution_count": 40,
     "metadata": {},
     "output_type": "execute_result"
    }
   ],
   "source": [
    "text = \"Hello\"\n",
    "text = text + \" World\"  # Creates a new string\n",
    "\n",
    "text\n"
   ]
  },
  {
   "cell_type": "markdown",
   "metadata": {},
   "source": [
    "### String Comparison:\n",
    "\n",
    "You can compare strings using comparison operators like == and !=. Python compares strings based on their lexicographic (dictionary) order."
   ]
  },
  {
   "cell_type": "code",
   "execution_count": 41,
   "metadata": {},
   "outputs": [
    {
     "data": {
      "text/plain": [
       "True"
      ]
     },
     "execution_count": 41,
     "metadata": {},
     "output_type": "execute_result"
    }
   ],
   "source": [
    "str1 = \"apple\"\n",
    "str2 = \"banana\"\n",
    "result = str1 < str2  # True\n",
    "result"
   ]
  },
  {
   "cell_type": "markdown",
   "metadata": {},
   "source": [
    "### Unicode Support:\n",
    "\n",
    "Python supports Unicode, allowing you to work with characters from various languages and symbols."
   ]
  },
  {
   "cell_type": "code",
   "execution_count": 42,
   "metadata": {},
   "outputs": [
    {
     "data": {
      "text/plain": [
       "'Γειά σας, 世界'"
      ]
     },
     "execution_count": 42,
     "metadata": {},
     "output_type": "execute_result"
    }
   ],
   "source": [
    "unicode_text = \"Γειά σας, 世界\"\n",
    "unicode_text"
   ]
  },
  {
   "cell_type": "markdown",
   "metadata": {},
   "source": [
    "Strings are fundamental to Python and play a significant role in text processing, data manipulation, and more. Understanding how to work with strings effectively is essential for programming in Python."
   ]
  },
  {
   "cell_type": "markdown",
   "metadata": {},
   "source": []
  },
  {
   "cell_type": "markdown",
   "metadata": {},
   "source": [
    "#       Class work\n",
    "\n",
    "### Use all the operators and do flow control statements and also in loops. Try to use all the string operations.\n",
    "### use assert for FileNotFound error. And do simple programs in List Comprehension. \n"
   ]
  }
 ],
 "metadata": {
  "kernelspec": {
   "display_name": "venv",
   "language": "python",
   "name": "python3"
  },
  "language_info": {
   "codemirror_mode": {
    "name": "ipython",
    "version": 3
   },
   "file_extension": ".py",
   "mimetype": "text/x-python",
   "name": "python",
   "nbconvert_exporter": "python",
   "pygments_lexer": "ipython3",
   "version": "3.12.0"
  }
 },
 "nbformat": 4,
 "nbformat_minor": 2
}
