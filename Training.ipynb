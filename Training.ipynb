{
 "cells": [
  {
   "cell_type": "code",
   "execution_count": 7,
   "metadata": {},
   "outputs": [],
   "source": [
    "# print(\"Hrllo World\")"
   ]
  },
  {
   "cell_type": "code",
   "execution_count": 8,
   "metadata": {},
   "outputs": [],
   "source": [
    "# pip install pandas"
   ]
  },
  {
   "cell_type": "code",
   "execution_count": 9,
   "metadata": {},
   "outputs": [],
   "source": [
    "# pip install numpy"
   ]
  },
  {
   "cell_type": "code",
   "execution_count": 18,
   "metadata": {},
   "outputs": [
    {
     "name": "stdout",
     "output_type": "stream",
     "text": [
      "Collecting xlrdNote: you may need to restart the kernel to use updated packages.\n",
      "\n",
      "  Downloading xlrd-2.0.1-py2.py3-none-any.whl (96 kB)\n",
      "     ---------------------------------------- 0.0/96.5 kB ? eta -:--:--\n",
      "     ---------------------------------------- 0.0/96.5 kB ? eta -:--:--\n",
      "     ---- ----------------------------------- 10.2/96.5 kB ? eta -:--:--\n",
      "     ---- ----------------------------------- 10.2/96.5 kB ? eta -:--:--\n",
      "     ------------ ------------------------- 30.7/96.5 kB 262.6 kB/s eta 0:00:01\n",
      "     ---------------- --------------------- 41.0/96.5 kB 281.8 kB/s eta 0:00:01\n",
      "     -------------------------------- ----- 81.9/96.5 kB 416.7 kB/s eta 0:00:01\n",
      "     -------------------------------------- 96.5/96.5 kB 425.1 kB/s eta 0:00:00\n",
      "Installing collected packages: xlrd\n",
      "Successfully installed xlrd-2.0.1\n"
     ]
    },
    {
     "name": "stderr",
     "output_type": "stream",
     "text": [
      "\n",
      "[notice] A new release of pip is available: 23.2.1 -> 23.3.1\n",
      "[notice] To update, run: python.exe -m pip install --upgrade pip\n"
     ]
    }
   ],
   "source": [
    "# pip install xlrd"
   ]
  },
  {
   "cell_type": "code",
   "execution_count": 10,
   "metadata": {},
   "outputs": [],
   "source": [
    "# pip install seaborn"
   ]
  },
  {
   "cell_type": "code",
   "execution_count": 27,
   "metadata": {},
   "outputs": [],
   "source": [
    "# pip install openpyxl"
   ]
  },
  {
   "cell_type": "code",
   "execution_count": 23,
   "metadata": {},
   "outputs": [],
   "source": [
    "import pandas as pd\n",
    "import numpy as np\n",
    "import seaborn as sns"
   ]
  },
  {
   "cell_type": "code",
   "execution_count": 28,
   "metadata": {},
   "outputs": [],
   "source": [
    "data = pd.read_excel(\"VemanaCollege_of_engineering_bangalore/Python.xlsx\")"
   ]
  },
  {
   "cell_type": "code",
   "execution_count": 32,
   "metadata": {},
   "outputs": [],
   "source": [
    "topics = data['Topics']"
   ]
  },
  {
   "cell_type": "code",
   "execution_count": 34,
   "metadata": {},
   "outputs": [
    {
     "data": {
      "text/plain": [
       "0     Variables\n",
       "1    Data Types\n",
       "2      Keywords\n",
       "3      Literals\n",
       "4     Operators\n",
       "Name: Topics, dtype: object"
      ]
     },
     "execution_count": 34,
     "metadata": {},
     "output_type": "execute_result"
    }
   ],
   "source": [
    "topics.head()"
   ]
  },
  {
   "cell_type": "code",
   "execution_count": 39,
   "metadata": {},
   "outputs": [
    {
     "data": {
      "text/plain": [
       "0                 Variables\n",
       "1                Data Types\n",
       "2                  Keywords\n",
       "3                  Literals\n",
       "4                 Operators\n",
       "5                  Comments\n",
       "6                   If Else\n",
       "7                     Loops\n",
       "8                  For Loop\n",
       "9                While Loop\n",
       "10                    Break\n",
       "11                 Continue\n",
       "12                     Pass\n",
       "13                  Strings\n",
       "14                    Lists\n",
       "15                   Tuples\n",
       "16            List Vs Tuple\n",
       "17                     Sets\n",
       "18               Dictionary\n",
       "19                Functions\n",
       "20       Built-in Functions\n",
       "21         Lambda Functions\n",
       "22                Files I/O\n",
       "23                  Modules\n",
       "24               Exceptions\n",
       "25                     Date\n",
       "26                    Regex\n",
       "27            Read CSV File\n",
       "28           Write CSV File\n",
       "29          Read Excel File\n",
       "30         Write Excel File\n",
       "31                   Assert\n",
       "32       List Comprehension\n",
       "33        Collection Module\n",
       "34              Math Module\n",
       "35                OS Module\n",
       "36            Random Module\n",
       "37        Statictics Module\n",
       "38                   Python\n",
       "39                     JSON\n",
       "40                Itertools\n",
       "41          Multiprocessing\n",
       "42                     OOPs\n",
       "43            OOPs Concepts\n",
       "44             Object Class\n",
       "45             Constructors\n",
       "46              Inheritance\n",
       "47    Abstraction in Python\n",
       "Name: Topics, dtype: object"
      ]
     },
     "execution_count": 39,
     "metadata": {},
     "output_type": "execute_result"
    }
   ],
   "source": [
    "topics"
   ]
  }
 ],
 "metadata": {
  "kernelspec": {
   "display_name": "venv",
   "language": "python",
   "name": "python3"
  },
  "language_info": {
   "codemirror_mode": {
    "name": "ipython",
    "version": 3
   },
   "file_extension": ".py",
   "mimetype": "text/x-python",
   "name": "python",
   "nbconvert_exporter": "python",
   "pygments_lexer": "ipython3",
   "version": "3.12.0"
  }
 },
 "nbformat": 4,
 "nbformat_minor": 2
}
